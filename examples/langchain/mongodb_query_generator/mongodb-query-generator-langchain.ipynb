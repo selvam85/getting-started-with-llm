{
 "cells": [
  {
   "cell_type": "markdown",
   "metadata": {},
   "source": [
    "### Optional step: Check to ensure we are using the right virtual env. "
   ]
  },
  {
   "cell_type": "code",
   "execution_count": null,
   "metadata": {},
   "outputs": [],
   "source": [
    "import sys\n",
    "sys.prefix"
   ]
  },
  {
   "cell_type": "code",
   "execution_count": null,
   "metadata": {},
   "outputs": [],
   "source": [
    "pip -V"
   ]
  },
  {
   "cell_type": "code",
   "execution_count": null,
   "metadata": {},
   "outputs": [],
   "source": [
    "pip freeze"
   ]
  },
  {
   "cell_type": "markdown",
   "metadata": {},
   "source": [
    "### Install the required libraries"
   ]
  },
  {
   "cell_type": "code",
   "execution_count": null,
   "metadata": {},
   "outputs": [],
   "source": [
    "!pip install openai\n",
    "!pip install python-dotenv\n",
    "!pip install langchain==0.0.270"
   ]
  },
  {
   "cell_type": "markdown",
   "metadata": {},
   "source": [
    "### Import the necessary packages"
   ]
  },
  {
   "cell_type": "code",
   "execution_count": 1,
   "metadata": {},
   "outputs": [],
   "source": [
    "import openai\n",
    "import os\n",
    "import re\n",
    "from dotenv import find_dotenv, load_dotenv\n",
    "from langchain.chat_models import ChatOpenAI\n",
    "from langchain.prompts import ChatPromptTemplate\n",
    "from langchain.output_parsers import ResponseSchema\n",
    "from langchain.output_parsers import StructuredOutputParser"
   ]
  },
  {
   "cell_type": "markdown",
   "metadata": {},
   "source": [
    "### Setup OpenAI API"
   ]
  },
  {
   "cell_type": "code",
   "execution_count": 2,
   "metadata": {},
   "outputs": [],
   "source": [
    "_ = load_dotenv(find_dotenv())\n",
    "openai.api_key = os.environ[\"OPENAI_API_KEY\"]"
   ]
  },
  {
   "cell_type": "markdown",
   "metadata": {},
   "source": [
    "### Instantiate the model"
   ]
  },
  {
   "cell_type": "code",
   "execution_count": 3,
   "metadata": {},
   "outputs": [],
   "source": [
    "chat = ChatOpenAI(temperature=0.0, model=\"gpt-3.5-turbo\")"
   ]
  },
  {
   "cell_type": "markdown",
   "metadata": {},
   "source": [
    "### Prompt Template"
   ]
  },
  {
   "cell_type": "code",
   "execution_count": 4,
   "metadata": {},
   "outputs": [],
   "source": [
    "prompt_template_str = \"\"\"\\\n",
    "Your task is to write a MongoDB query to produce the expected output for the given input data.\n",
    "\n",
    "mongodb_query: The query that produces the expected output for the given input.\n",
    "\n",
    "query_explanation: Explanation of what the query is doing.\n",
    "\n",
    "Format the output as JSON with the following keys:\n",
    "mongodb_query\n",
    "query_explanation\n",
    "\n",
    "Input data: {input_data}\n",
    "Expected output: {expected_output}\n",
    "\n",
    "{format_instructions}\n",
    "\"\"\"\n",
    "\n",
    "prompt_template = ChatPromptTemplate.from_template(template=prompt_template_str)"
   ]
  },
  {
   "cell_type": "markdown",
   "metadata": {},
   "source": [
    "### Response Schema & Output Instructions"
   ]
  },
  {
   "cell_type": "code",
   "execution_count": 5,
   "metadata": {},
   "outputs": [],
   "source": [
    "mongodb_query_schema = ResponseSchema(name=\"mongodb_query\",\n",
    "                                      description=\"The query that produces the expected output for the given input.\")\n",
    "query_explanation_schema = ResponseSchema(name=\"query_explanation\",\n",
    "                                          description=\"Explanation of what the query is doing.\")\n",
    "\n",
    "response_schemas = [mongodb_query_schema, query_explanation_schema]"
   ]
  },
  {
   "cell_type": "code",
   "execution_count": 6,
   "metadata": {},
   "outputs": [
    {
     "name": "stdout",
     "output_type": "stream",
     "text": [
      "The output should be a markdown code snippet formatted in the following schema, including the leading and trailing \"```json\" and \"```\":\n",
      "\n",
      "```json\n",
      "{\n",
      "\t\"mongodb_query\": string  // The query that produces the expected output for the given input.\n",
      "\t\"query_explanation\": string  // Explanation of what the query is doing.\n",
      "}\n",
      "```\n"
     ]
    }
   ],
   "source": [
    "output_parser = StructuredOutputParser.from_response_schemas(response_schemas)\n",
    "format_instructions = output_parser.get_format_instructions()\n",
    "\n",
    "print(format_instructions)"
   ]
  },
  {
   "cell_type": "markdown",
   "metadata": {},
   "source": [
    "### Define a generic function to chat with AI assistant for various input"
   ]
  },
  {
   "cell_type": "code",
   "execution_count": 29,
   "metadata": {},
   "outputs": [],
   "source": [
    "def get_llm_response(input_data, expected_output, format_instructions):\n",
    "    messages = prompt_template.format_messages(input_data = input_data,\n",
    "                                               expected_output = expected_output,\n",
    "                                               format_instructions = format_instructions)\n",
    "    response = chat(messages)\n",
    "    #print(f\"LLM Response:\\n{response.content}\")\n",
    "\n",
    "    json_str = pre_process_json_str(response.content)\n",
    "    #print(f\"Pre-processed JSON str:\\n{json_str}\")\n",
    "    \n",
    "    output_dict = output_parser.parse(json_str)\n",
    "    return output_dict\n",
    "\n",
    "def pre_process_json_str(json_str):\n",
    "    json_str = re.sub(r\"\\n\", '', json_str)\n",
    "    json_str = re.sub(r\"\\r\", '', json_str)\n",
    "    json_str = re.sub(r\"\\t\", '', json_str)\n",
    "    return json_str"
   ]
  },
  {
   "cell_type": "markdown",
   "metadata": {},
   "source": [
    "### Example 1: Simple Group By query\n",
    "The task here is to write a MongoDB aggregation pipeline to group the data based on team and count the players for each team. "
   ]
  },
  {
   "cell_type": "code",
   "execution_count": 12,
   "metadata": {},
   "outputs": [],
   "source": [
    "ex1_input_data = \"\"\"\n",
    "[\n",
    "  {\n",
    "    \"name\": \"Sachin\",\n",
    "    \"team\": \"India\"\n",
    "  },\n",
    "  {\n",
    "    \"name\": \"Sourav\",\n",
    "    \"team\": \"India\"\n",
    "  },\n",
    "  {\n",
    "    \"name\": \"Lara\",\n",
    "    \"team\": \"West Indies\"\n",
    "  }\n",
    "]\n",
    "\"\"\"\n",
    "\n",
    "ex1_expected_output = \"\"\"\n",
    "[\n",
    " {\n",
    "   \"team\": India,\n",
    "   \"playerCount\": 2\n",
    " },\n",
    " {\n",
    "   \"team\": \"West Indies\",\n",
    "   \"playerCount\": 1\n",
    " }\n",
    "]\n",
    "\"\"\""
   ]
  },
  {
   "cell_type": "code",
   "execution_count": 30,
   "metadata": {},
   "outputs": [
    {
     "name": "stdout",
     "output_type": "stream",
     "text": [
      "MongoDB Query:\n",
      "db.collection.aggregate([{$group: {_id: '$team', playerCount: {$sum: 1}}}, {$project: {team: '$_id', playerCount: 1, _id: 0}}])\n",
      "\n",
      "Query Explanation: The query uses the aggregate method to group the documents by the 'team' field. It then calculates the count of players in each group using the $sum operator. Finally, it uses the $project stage to reshape the output and exclude the _id field.\n"
     ]
    }
   ],
   "source": [
    "llm_response = get_llm_response(ex1_input_data, ex1_expected_output, format_instructions)\n",
    "\n",
    "print(f\"MongoDB Query:\\n{llm_response.get('mongodb_query')}\")\n",
    "print(f\"\\nQuery Explanation: {llm_response.get('query_explanation')}\")"
   ]
  },
  {
   "cell_type": "markdown",
   "metadata": {},
   "source": [
    "### Example 2: Find the duplicates\n",
    "The task is to write a MongoDB aggregation pipeline to find the documents that have duplicates in the nested array \"courses\" and count the number of times those duplicate items are present in the array. "
   ]
  },
  {
   "cell_type": "code",
   "execution_count": 16,
   "metadata": {},
   "outputs": [],
   "source": [
    "ex2_input_data = \"\"\"\n",
    "[\n",
    " {\n",
    "   \"student\": \"Sachin\",\n",
    "   \"courses\": [\n",
    "      {\n",
    "        \"courseName\": \"batting\",\n",
    "        \"marks\": 100\n",
    "      },\n",
    "      {\n",
    "        \"courseName\": \"batting\",\n",
    "        \"marks\": 50\n",
    "      },\n",
    "      {\n",
    "        \"courseName\": \"fielding\",\n",
    "        \"marks\": 60\n",
    "      }\n",
    "   ]\n",
    " },\n",
    " {\n",
    "   \"student\": \"Sourav\",\n",
    "   \"courses\": [\n",
    "      {\n",
    "        \"courseName\": \"batting\",\n",
    "        \"marks\": 80\n",
    "      },\n",
    "      {\n",
    "        \"courseName\": \"bowling\",\n",
    "        \"marks\": 60\n",
    "      },\n",
    "      {\n",
    "        \"courseName\": \"fielding\",\n",
    "        \"marks\": 40\n",
    "      }\n",
    "   ]\n",
    " }\n",
    "]\n",
    "\"\"\"\n",
    "\n",
    "ex2_expected_output = \"\"\"\n",
    "[\n",
    "  {\n",
    "    \"student\": \"Sachin\"\n",
    "    \"duplicateCourses\": [\n",
    "      {\n",
    "        \"courseName\": \"batting\"\n",
    "        \"duplicateCount\": 2\n",
    "      }\n",
    "    ]\n",
    "  }\n",
    "]\n",
    "\"\"\""
   ]
  },
  {
   "cell_type": "code",
   "execution_count": 31,
   "metadata": {},
   "outputs": [
    {
     "name": "stdout",
     "output_type": "stream",
     "text": [
      "MongoDB Query:\n",
      "[{'$unwind': '$courses'}, {'$group': {'_id': {'student': '$student', 'courseName': '$courses.courseName'}, 'duplicateCount': {'$sum': 1}}}, {'$match': {'duplicateCount': {'$gt': 1}}}, {'$group': {'_id': '$_id.student', 'duplicateCourses': {'$push': {'courseName': '$_id.courseName', 'duplicateCount': '$duplicateCount'}}}}, {'$project': {'_id': 0, 'student': '$_id', 'duplicateCourses': 1}}]\n",
      "\n",
      "Query Explanation: The query first unwinds the 'courses' array to create separate documents for each course. Then, it groups the documents by 'student' and 'courseName', and calculates the count of duplicate courses using the $sum operator. The $match stage filters out the documents where the duplicate count is greater than 1. Next, the query groups the documents by 'student' and creates an array of duplicate courses using the $push operator. Finally, the $project stage reshapes the output to include only the 'student' and 'duplicateCourses' fields.\n"
     ]
    }
   ],
   "source": [
    "llm_response = get_llm_response(ex2_input_data, ex2_expected_output, format_instructions)\n",
    "\n",
    "print(f\"MongoDB Query:\\n{llm_response.get('mongodb_query')}\")\n",
    "print(f\"\\nQuery Explanation: {llm_response.get('query_explanation')}\")"
   ]
  },
  {
   "cell_type": "markdown",
   "metadata": {},
   "source": [
    "### Example 3 - Group By an attribute which is in the nested array\n",
    "The task is to group by author name to get the list of books written by them"
   ]
  },
  {
   "cell_type": "code",
   "execution_count": 18,
   "metadata": {},
   "outputs": [],
   "source": [
    "ex3_input_data = \"\"\"\n",
    "[\n",
    "  {\n",
    "    \"bookCategory\": \"Non-Fiction\",\n",
    "    \"books\": [\n",
    "      {\n",
    "        \"bookName\": \"Seven Habits\",\n",
    "        \"pages\": 200,\n",
    "        \"authors\": [\n",
    "          {\n",
    "            \"authorName\": \"Sachin\",\n",
    "            \"authorEmail\": \"sachin@gmail.com\"\n",
    "          },\n",
    "          {\n",
    "            \"authorName\": \"Sourav\",\n",
    "            \"authorEmail\": \"sourav@gmail.com\"\n",
    "          }\n",
    "        ]\n",
    "      },\n",
    "      {\n",
    "        \"bookName\": \"One thing\",\n",
    "        \"pages\": 100,\n",
    "        \"authors\": [\n",
    "          {\n",
    "            \"authorName\": \"Sachin\",\n",
    "            \"authorEmail\": \"sachin@gmail.com\"\n",
    "          }\n",
    "        ]\n",
    "      },\n",
    "      \n",
    "    ]\n",
    "  },\n",
    "  {\n",
    "    \"bookCategory\": \"Fiction\",\n",
    "    \"books\": [\n",
    "      {\n",
    "        \"bookName\": \"Harry Potter\",\n",
    "        \"pages\": 400,\n",
    "        \"authors\": [\n",
    "          {\n",
    "            \"authorName\": \"Sachin\",\n",
    "            \"authorEmail\": \"sachin@gmail.com\"\n",
    "          },\n",
    "          {\n",
    "            \"authorName\": \"Tim\",\n",
    "            \"authorEmail\": \"Tim@gmail.com\"\n",
    "          }\n",
    "        ]\n",
    "      },\n",
    "      {\n",
    "        \"bookName\": \"Alchemist\",\n",
    "        \"pages\": 100,\n",
    "        \"authors\": [\n",
    "          {\n",
    "            \"authorName\": \"Sourav\",\n",
    "            \"authorEmail\": \"sourav@gmail.com\"\n",
    "          }\n",
    "        ]\n",
    "      },\n",
    "      \n",
    "    ]\n",
    "  }\n",
    "]\n",
    "\"\"\"\n",
    "\n",
    "ex3_expected_output = \"\"\"\n",
    "[\n",
    "  {\n",
    "     \"authorName\": \"Sachin\",\n",
    "     \"bookName\": [\n",
    "        \"Seven Habits\",\n",
    "        \"One thing\",\n",
    "        \"Harry Potter\"\n",
    "     ] \n",
    "  },\n",
    "  {\n",
    "     \"authorName\": \"Sourav\",\n",
    "     \"bookName\": [\n",
    "        \"Seven Habits\",\n",
    "        \"Alchemist\"\n",
    "     ] \n",
    "  },\n",
    "  {\n",
    "     \"authorName\": \"Tim\",\n",
    "     \"bookName\": [\n",
    "        \"Harry Potter\"\n",
    "     ] \n",
    "  }\n",
    "]\n",
    "\"\"\""
   ]
  },
  {
   "cell_type": "code",
   "execution_count": 32,
   "metadata": {},
   "outputs": [
    {
     "name": "stdout",
     "output_type": "stream",
     "text": [
      "MongoDB Query:\n",
      "[{'$unwind': '$books'}, {'$unwind': '$books.authors'}, {'$group': {'_id': '$books.authors.authorName', 'bookName': {'$addToSet': '$books.bookName'}}}, {'$project': {'_id': 0, 'authorName': '$_id', 'bookName': 1}}]\n",
      "\n",
      "Query Explanation: The query first unwinds the 'books' array and then unwinds the 'authors' array within each book. Then, it groups the documents by the 'authorName' field and creates an array of unique 'bookName' values for each author using the $addToSet operator. Finally, it projects the 'authorName' and 'bookName' fields while excluding the '_id' field.\n"
     ]
    }
   ],
   "source": [
    "llm_response = get_llm_response(ex3_input_data, ex3_expected_output, format_instructions)\n",
    "\n",
    "print(f\"MongoDB Query:\\n{llm_response.get('mongodb_query')}\")\n",
    "print(f\"\\nQuery Explanation: {llm_response.get('query_explanation')}\")"
   ]
  },
  {
   "cell_type": "markdown",
   "metadata": {},
   "source": [
    "### Example 4: Extract nested array content into one single array"
   ]
  },
  {
   "cell_type": "code",
   "execution_count": 20,
   "metadata": {},
   "outputs": [],
   "source": [
    "ex4_input_data = \"\"\"\n",
    "[\n",
    "  {\n",
    "    \"bookCategory\": \"Non-Fiction\",\n",
    "    \"books\": [\n",
    "      {\n",
    "        \"bookName\": \"Seven Habits\",\n",
    "        \"pages\": 200,\n",
    "        \"authors\": [\n",
    "          {\n",
    "            \"authorName\": \"Sachin\",\n",
    "            \"authorEmail\": \"sachin@gmail.com\"\n",
    "          },\n",
    "          {\n",
    "            \"authorName\": \"Sourav\",\n",
    "            \"authorEmail\": \"sourav@gmail.com\"\n",
    "          }\n",
    "        ]\n",
    "      },\n",
    "      {\n",
    "        \"bookName\": \"One thing\",\n",
    "        \"pages\": 100,\n",
    "        \"authors\": [\n",
    "          {\n",
    "            \"authorName\": \"Sachin\",\n",
    "            \"authorEmail\": \"sachin@gmail.com\"\n",
    "          }\n",
    "        ]\n",
    "      },\n",
    "      \n",
    "    ]\n",
    "  },\n",
    "  {\n",
    "    \"bookCategory\": \"Fiction\",\n",
    "    \"books\": [\n",
    "      {\n",
    "        \"bookName\": \"Harry Potter\",\n",
    "        \"pages\": 400,\n",
    "        \"authors\": [\n",
    "          {\n",
    "            \"authorName\": \"Sachin\",\n",
    "            \"authorEmail\": \"sachin@gmail.com\"\n",
    "          },\n",
    "          {\n",
    "            \"authorName\": \"Tim\",\n",
    "            \"authorEmail\": \"Tim@gmail.com\"\n",
    "          }\n",
    "        ]\n",
    "      },\n",
    "      {\n",
    "        \"bookName\": \"Alchemist\",\n",
    "        \"pages\": 100,\n",
    "        \"authors\": [\n",
    "          {\n",
    "            \"authorName\": \"Sourav\",\n",
    "            \"authorEmail\": \"sourav@gmail.com\"\n",
    "          }\n",
    "        ]\n",
    "      },\n",
    "      \n",
    "    ]\n",
    "  }\n",
    "]\n",
    "\"\"\"\n",
    "\n",
    "ex4_expected_output = \"\"\"\n",
    "[\n",
    "  {\n",
    "    \"authors\": [\n",
    "      {\n",
    "        \"authorEmail\": \"sachin@gmail.com\",\n",
    "        \"authorName\": \"Sachin\"\n",
    "      },\n",
    "      {\n",
    "        \"authorEmail\": \"sourav@gmail.com\",\n",
    "        \"authorName\": \"Sourav\"\n",
    "      }\n",
    "    ],\n",
    "    \"bookName\": \"Seven Habits\",\n",
    "    \"pages\": 200\n",
    "  },\n",
    "  {\n",
    "    \"authors\": [\n",
    "      {\n",
    "        \"authorEmail\": \"sachin@gmail.com\",\n",
    "        \"authorName\": \"Sachin\"\n",
    "      }\n",
    "    ],\n",
    "    \"bookName\": \"One thing\",\n",
    "    \"pages\": 100\n",
    "  },\n",
    "  {\n",
    "    \"authors\": [\n",
    "      {\n",
    "        \"authorEmail\": \"sachin@gmail.com\",\n",
    "        \"authorName\": \"Sachin\"\n",
    "      },\n",
    "      {\n",
    "        \"authorEmail\": \"Tim@gmail.com\",\n",
    "        \"authorName\": \"Tim\"\n",
    "      }\n",
    "    ],\n",
    "    \"bookName\": \"Harry Potter\",\n",
    "    \"pages\": 400\n",
    "  },\n",
    "  {\n",
    "    \"authors\": [\n",
    "      {\n",
    "        \"authorEmail\": \"sourav@gmail.com\",\n",
    "        \"authorName\": \"Sourav\"\n",
    "      }\n",
    "    ],\n",
    "    \"bookName\": \"Alchemist\",\n",
    "    \"pages\": 100\n",
    "  }\n",
    "]\n",
    "\"\"\""
   ]
  },
  {
   "cell_type": "code",
   "execution_count": 33,
   "metadata": {},
   "outputs": [
    {
     "name": "stdout",
     "output_type": "stream",
     "text": [
      "MongoDB Query:\n",
      "db.collection.aggregate([{ $unwind: '$books' },{ $project: {bookName: '$books.bookName',pages: '$books.pages',authors: '$books.authors'} }])\n",
      "\n",
      "Query Explanation: The query starts by using the $unwind operator to flatten the 'books' array. Then, the $project operator is used to select the desired fields 'bookName', 'pages', and 'authors' from the flattened documents. The result is the expected output.\n"
     ]
    }
   ],
   "source": [
    "llm_response = get_llm_response(ex4_input_data, ex4_expected_output, format_instructions)\n",
    "\n",
    "print(f\"MongoDB Query:\\n{llm_response.get('mongodb_query')}\")\n",
    "print(f\"\\nQuery Explanation: {llm_response.get('query_explanation')}\")"
   ]
  },
  {
   "cell_type": "markdown",
   "metadata": {},
   "source": [
    "### Example 5: extract nested array as objects"
   ]
  },
  {
   "cell_type": "code",
   "execution_count": 22,
   "metadata": {},
   "outputs": [],
   "source": [
    "ex5_input_data = \"\"\"\n",
    "[\n",
    "  {\n",
    "    \"bookName\": \"Seven Habits\",\n",
    "    \"pages\": 200,\n",
    "    \"authors\": [\n",
    "      {\n",
    "        \"authorName\": \"Sachin\",\n",
    "        \"authorEmail\": \"sachin@gmail.com\"\n",
    "      },\n",
    "      {\n",
    "        \"authorName\": \"Sourav\",\n",
    "        \"authorEmail\": \"sourav@gmail.com\"\n",
    "      }\n",
    "    ]\n",
    "  },\n",
    "  {\n",
    "    \"bookName\": \"One thing\",\n",
    "    \"pages\": 100,\n",
    "    \"authors\": [\n",
    "      {\n",
    "        \"authorName\": \"Sachin\",\n",
    "        \"authorEmail\": \"sachin@gmail.com\"\n",
    "      }\n",
    "    ]\n",
    "  },\n",
    "  {\n",
    "    \"bookName\": \"Harry Potter\",\n",
    "    \"pages\": 400,\n",
    "    \"authors\": [\n",
    "      {\n",
    "        \"authorName\": \"Sachin\",\n",
    "        \"authorEmail\": \"sachin@gmail.com\"\n",
    "      },\n",
    "      {\n",
    "        \"authorName\": \"Tim\",\n",
    "        \"authorEmail\": \"Tim@gmail.com\"\n",
    "      }\n",
    "    ]\n",
    "  },\n",
    "  {\n",
    "    \"bookName\": \"Alchemist\",\n",
    "    \"pages\": 100,\n",
    "    \"authors\": [\n",
    "      {\n",
    "        \"authorName\": \"Sourav\",\n",
    "        \"authorEmail\": \"sourav@gmail.com\"\n",
    "      }\n",
    "    ]\n",
    "  }\n",
    "]\n",
    "\"\"\"\n",
    "\n",
    "ex5_expected_output = \"\"\"\n",
    "[\n",
    "    {\n",
    "        \"bookName\": \"Seven Habits\",\n",
    "        \"pages\": 200,\n",
    "        \"authorName\": \"Sachin\",\n",
    "        \"authorEmail\": \"sachin@gmail.com\"\n",
    "    },\n",
    "    {\n",
    "        \"bookName\": \"Seven Habits\",\n",
    "        \"pages\": 200,\n",
    "        \"authorName\": \"Sourav\",\n",
    "        \"authorEmail\": \"sourav@gmail.com\"\n",
    "    },\n",
    "    {\n",
    "        \"bookName\": \"One thing\",\n",
    "        \"pages\": 100,\n",
    "        \"authorName\": \"Sachin\",\n",
    "        \"authorEmail\": \"sachin@gmail.com\"\n",
    "    },\n",
    "    {\n",
    "        \"bookName\": \"Harry Potter\",\n",
    "        \"pages\": 400,\n",
    "        \"authorName\": \"Sachin\",\n",
    "        \"authorEmail\": \"sachin@gmail.com\"\n",
    "    },\n",
    "    {\n",
    "        \"bookName\": \"Harry Potter\",\n",
    "        \"pages\": 400,\n",
    "        \"authorName\": \"Tim\",\n",
    "        \"authorEmail\": \"Tim@gmail.com\"\n",
    "    },\n",
    "    {\n",
    "        \"bookName\": \"Alchemist\",\n",
    "        \"pages\": 100,\n",
    "        \"authorName\": \"Sourav\",\n",
    "        \"authorEmail\": \"sourav@gmail.com\"\n",
    "    }\n",
    "]\n",
    "\"\"\""
   ]
  },
  {
   "cell_type": "code",
   "execution_count": 34,
   "metadata": {},
   "outputs": [
    {
     "name": "stdout",
     "output_type": "stream",
     "text": [
      "MongoDB Query:\n",
      "db.books.aggregate([        {            $unwind: '$authors'        },        {            $project: {                bookName: 1,                pages: 1,                authorName: '$authors.authorName',                authorEmail: '$authors.authorEmail'            }        }    ])\n",
      "\n",
      "Query Explanation: The query uses the aggregate method to perform the following operations:\n",
      "\n",
      "1. $unwind: '$authors' - This operation deconstructs the authors array, creating a separate document for each author.\n",
      "2. $project: {...} - This operation projects the desired fields from the input documents and renames the fields using the specified expressions. In this case, it selects the bookName, pages, authorName, and authorEmail fields from the input documents and renames them accordingly.\n",
      "\n",
      "The result is a new set of documents where each document represents a book with its corresponding author.\n"
     ]
    }
   ],
   "source": [
    "llm_response = get_llm_response(ex5_input_data, ex5_expected_output, format_instructions)\n",
    "\n",
    "print(f\"MongoDB Query:\\n{llm_response.get('mongodb_query')}\")\n",
    "print(f\"\\nQuery Explanation: {llm_response.get('query_explanation')}\")"
   ]
  },
  {
   "cell_type": "markdown",
   "metadata": {},
   "source": [
    "### Example 6 - Aggregate and produce a summary"
   ]
  },
  {
   "cell_type": "code",
   "execution_count": 24,
   "metadata": {},
   "outputs": [],
   "source": [
    "ex6_input_data = \"\"\"\n",
    "[\n",
    "    {\n",
    "        \"studentName\": \"Pete\",\n",
    "        \"subjects\": [\n",
    "            {\n",
    "                \"subjectName\": \"Math\",\n",
    "                \"result\": \"passed\"\n",
    "            },\n",
    "            {\n",
    "                \"subjectName\": \"Physics\",\n",
    "                \"result\": \"passed\"\n",
    "            },\n",
    "            {\n",
    "                \"subjectName\": \"Chemistry\",\n",
    "                \"result\": \"failed\"\n",
    "            },\n",
    "            {\n",
    "                \"subjectName\": \"Botany\",\n",
    "                \"result\": \"failed\"\n",
    "            },\n",
    "            {\n",
    "                \"subjectName\": \"Zoology\",\n",
    "                \"result\": \"failed\"\n",
    "            }\n",
    "        ]\n",
    "    }\n",
    "]\n",
    "\"\"\"\n",
    "\n",
    "ex6_expected_output = \"\"\"\n",
    "{\n",
    "    \"totalSubjectCount\": 5,\n",
    "    \"totalResultPassedCount\": 2,\n",
    "    \"totalResultFailedCount\": 3\n",
    "}\n",
    "\"\"\""
   ]
  },
  {
   "cell_type": "code",
   "execution_count": 35,
   "metadata": {},
   "outputs": [
    {
     "name": "stdout",
     "output_type": "stream",
     "text": [
      "MongoDB Query:\n",
      "db.students.aggregate([        {            $project: {                totalSubjectCount: { $size: '$subjects' },                totalResultPassedCount: {                    $size: {                        $filter: {                            input: '$subjects',                            as: 'subject',                            cond: { $eq: ['$$subject.result', 'passed'] }                        }                    }                },                totalResultFailedCount: {                    $size: {                        $filter: {                            input: '$subjects',                            as: 'subject',                            cond: { $eq: ['$$subject.result', 'failed'] }                        }                    }                }            }        }    ])\n",
      "\n",
      "Query Explanation: The query uses the aggregate method to perform the following operations:\n",
      "\n",
      "1. $project: This stage is used to create new fields in the output document.\n",
      "\n",
      "2. totalSubjectCount: The $size operator is used to calculate the total number of subjects in the 'subjects' array.\n",
      "\n",
      "3. totalResultPassedCount: The $filter operator is used to filter the 'subjects' array and only include subjects where the 'result' field is equal to 'passed'. The $size operator is then used to calculate the total number of filtered subjects.\n",
      "\n",
      "4. totalResultFailedCount: Similar to totalResultPassedCount, but filters for subjects where the 'result' field is equal to 'failed'. The $size operator is then used to calculate the total number of filtered subjects.\n"
     ]
    }
   ],
   "source": [
    "llm_response = get_llm_response(ex6_input_data, ex6_expected_output, format_instructions)\n",
    "\n",
    "print(f\"MongoDB Query:\\n{llm_response.get('mongodb_query')}\")\n",
    "print(f\"\\nQuery Explanation: {llm_response.get('query_explanation')}\")"
   ]
  },
  {
   "cell_type": "markdown",
   "metadata": {},
   "source": [
    "### Unit test for pre_process_json_str function"
   ]
  },
  {
   "cell_type": "code",
   "execution_count": null,
   "metadata": {},
   "outputs": [],
   "source": [
    "import re\n",
    "value = \"\"\"{\n",
    "\t\"mongodb_query\": \"db.collection.aggregate([\n",
    "\t\t{ $unwind: '$books' },\n",
    "\t\t{ $project: {\n",
    "\t\t\tbookName: '$books.bookName',\n",
    "\t\t\tpages: '$books.pages',\n",
    "\t\t\tauthors: '$books.authors'\n",
    "\t\t} }\n",
    "\t])\",\n",
    "\t\"query_explanation\": \"The query starts by using the $unwind operator to flatten the 'books' array. Then, the $project operator is used to select the desired fields 'bookName', 'pages', and 'authors' from the flattened documents. The result is the expected output.\"\n",
    "}\"\"\"\n",
    "value = re.sub(r\"\\n\", '', value)\n",
    "value = re.sub(r\"\\r\", '', value)\n",
    "value = re.sub(r\"\\t\", '', value)\n",
    "value = re.sub(r'(?<!\\\\)\"', r\"\\\"\", value)\n",
    "print(value)"
   ]
  }
 ],
 "metadata": {
  "kernelspec": {
   "display_name": "myenv_fc",
   "language": "python",
   "name": "myenv_fc"
  },
  "language_info": {
   "codemirror_mode": {
    "name": "ipython",
    "version": 3
   },
   "file_extension": ".py",
   "mimetype": "text/x-python",
   "name": "python",
   "nbconvert_exporter": "python",
   "pygments_lexer": "ipython3",
   "version": "3.11.5"
  }
 },
 "nbformat": 4,
 "nbformat_minor": 4
}
