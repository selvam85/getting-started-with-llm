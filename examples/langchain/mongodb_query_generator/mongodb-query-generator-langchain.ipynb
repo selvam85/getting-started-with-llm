{
 "cells": [
  {
   "cell_type": "markdown",
   "metadata": {},
   "source": [
    "## MongoDB Query Generator using OpenAI JSON mode"
   ]
  },
  {
   "cell_type": "markdown",
   "metadata": {},
   "source": [
    "### Install the required libraries"
   ]
  },
  {
   "cell_type": "code",
   "execution_count": null,
   "metadata": {},
   "outputs": [],
   "source": [
    "!pip install openai\n",
    "!pip install python-dotenv\n",
    "!pip install langchain"
   ]
  },
  {
   "cell_type": "markdown",
   "metadata": {},
   "source": [
    "### Import the necessary packages"
   ]
  },
  {
   "cell_type": "code",
   "execution_count": 1,
   "metadata": {},
   "outputs": [],
   "source": [
    "import openai\n",
    "import os\n",
    "import json\n",
    "from dotenv import load_dotenv\n",
    "from langchain.chat_models import ChatOpenAI\n",
    "from langchain.prompts import ChatPromptTemplate"
   ]
  },
  {
   "cell_type": "markdown",
   "metadata": {},
   "source": [
    "### Load the OpenAI API key as environment variable\n",
    "\n",
    "The OpenAI API key is present in a .env file with the key **\"OPENAI_API_KEY\"**"
   ]
  },
  {
   "cell_type": "code",
   "execution_count": 2,
   "metadata": {},
   "outputs": [],
   "source": [
    "_ = load_dotenv()"
   ]
  },
  {
   "cell_type": "markdown",
   "metadata": {},
   "source": [
    "### Instantiate the model\n",
    "\n",
    "bind() function returns a Runnable object. So, we need to invoke the LLM using chat.invoke(). Using the returned object as a function - chat() - wouldn't work on a Runnable. Please refer to the [API documentation](https://api.python.langchain.com/en/stable/chat_models/langchain_community.chat_models.openai.ChatOpenAI.html#langchain_community.chat_models.openai.ChatOpenAI)\n",
    "\n",
    "Here we are using bind() to pass in the reponse_format supported by latest OpenAI models released as of 11/6/2023, as a kwarg since there is no explicit parameter to the class supported yet."
   ]
  },
  {
   "cell_type": "code",
   "execution_count": 3,
   "metadata": {},
   "outputs": [],
   "source": [
    "GPT_MODEL = \"gpt-3.5-turbo-1106\"\n",
    "#GPT_MODEL = \"gpt-4-1106-preview\"\n",
    "\n",
    "chat = ChatOpenAI(temperature=0, model=GPT_MODEL).bind(\n",
    "    response_format={\"type\": \"json_object\"}\n",
    ")"
   ]
  },
  {
   "cell_type": "markdown",
   "metadata": {},
   "source": [
    "### Prompt Template"
   ]
  },
  {
   "cell_type": "code",
   "execution_count": 4,
   "metadata": {},
   "outputs": [],
   "source": [
    "prompt_template_str = \"\"\"\n",
    "Your task is to write a MongoDB Query, specifically an aggregation pipeline \\\n",
    "that would produce the expected output for the given input.\n",
    "\n",
    "Return a JSON response with the following keys:\n",
    "```\n",
    "mongoDBQuery: The MongoDB aggregation pipeline to produce the expected output for a given input.\\\n",
    "This field corresponds to just the list of stages in the aggregation pipeline \\\n",
    "and shouldn't contain the \"db.collection.aggregate\" prefix.\n",
    "    \n",
    "queryExplanation: A detailed explanation for the query that was returned.\n",
    "```\n",
    "    \n",
    "Input data: {input_data} \n",
    "Expected output data: {expected_output}\n",
    "\"\"\"\n",
    "\n",
    "prompt_template = ChatPromptTemplate.from_template(template=prompt_template_str)"
   ]
  },
  {
   "cell_type": "code",
   "execution_count": 5,
   "metadata": {},
   "outputs": [],
   "source": [
    "def get_llm_response(input_data, expected_output):\n",
    "    messages = prompt_template.format_messages(input_data = input_data, expected_output = expected_output)\n",
    "    response = chat.invoke(messages)\n",
    "    #print(f\"response from assistant: {response}\")\n",
    "    return response.content"
   ]
  },
  {
   "cell_type": "markdown",
   "metadata": {},
   "source": [
    "### Example 1: Simple Group By query\n",
    "The task here is to write a MongoDB aggregation pipeline to group the data based on team and count the players for each team. "
   ]
  },
  {
   "cell_type": "code",
   "execution_count": 6,
   "metadata": {},
   "outputs": [],
   "source": [
    "ex1_input_data = \"\"\"\n",
    "[\n",
    "  {\n",
    "    \"name\": \"Sachin\",\n",
    "    \"team\": \"India\"\n",
    "  },\n",
    "  {\n",
    "    \"name\": \"Sourav\",\n",
    "    \"team\": \"India\"\n",
    "  },\n",
    "  {\n",
    "    \"name\": \"Lara\",\n",
    "    \"team\": \"West Indies\"\n",
    "  }\n",
    "]\n",
    "\"\"\"\n",
    "\n",
    "ex1_expected_output = \"\"\"\n",
    "[\n",
    " {\n",
    "   \"team\": India,\n",
    "   \"playerCount\": 2\n",
    " },\n",
    " {\n",
    "   \"team\": \"West Indies\",\n",
    "   \"playerCount\": 1\n",
    " }\n",
    "]\n",
    "\"\"\""
   ]
  },
  {
   "cell_type": "code",
   "execution_count": 7,
   "metadata": {},
   "outputs": [
    {
     "name": "stdout",
     "output_type": "stream",
     "text": [
      "MongoDB Query:\n",
      "[{'$group': {'_id': '$team', 'playerCount': {'$sum': 1}}}, {'$project': {'_id': 0, 'team': '$_id', 'playerCount': 1}}]\n",
      "\n",
      "Query Explanation: In this MongoDB aggregation pipeline, we first use the $group stage to group the documents by the 'team' field and calculate the count of players for each team using the $sum accumulator. Then, we use the $project stage to reshape the output and exclude the _id field, while renaming the _id field to 'team' and keeping the 'playerCount' field.\n"
     ]
    }
   ],
   "source": [
    "llm_response = get_llm_response(ex1_input_data, ex1_expected_output)\n",
    "\n",
    "llm_response_json = json.loads(llm_response)\n",
    "#print(f\"llm_response:\\n{llm_response_json}\")\n",
    "print(f\"MongoDB Query:\\n{llm_response_json.get('mongoDBQuery')}\")\n",
    "print(f\"\\nQuery Explanation: {llm_response_json.get('queryExplanation')}\")"
   ]
  },
  {
   "cell_type": "markdown",
   "metadata": {},
   "source": [
    "### Example 2: Find the duplicates\n",
    "The task is to write a MongoDB aggregation pipeline to find the documents that have duplicates in the nested array \"courses\" and count the number of times those duplicate items are present in the array. "
   ]
  },
  {
   "cell_type": "code",
   "execution_count": 8,
   "metadata": {},
   "outputs": [],
   "source": [
    "ex2_input_data = \"\"\"\n",
    "[\n",
    " {\n",
    "   \"student\": \"Sachin\",\n",
    "   \"courses\": [\n",
    "      {\n",
    "        \"courseName\": \"batting\",\n",
    "        \"marks\": 100\n",
    "      },\n",
    "      {\n",
    "        \"courseName\": \"batting\",\n",
    "        \"marks\": 50\n",
    "      },\n",
    "      {\n",
    "        \"courseName\": \"fielding\",\n",
    "        \"marks\": 60\n",
    "      }\n",
    "   ]\n",
    " },\n",
    " {\n",
    "   \"student\": \"Sourav\",\n",
    "   \"courses\": [\n",
    "      {\n",
    "        \"courseName\": \"batting\",\n",
    "        \"marks\": 80\n",
    "      },\n",
    "      {\n",
    "        \"courseName\": \"bowling\",\n",
    "        \"marks\": 60\n",
    "      },\n",
    "      {\n",
    "        \"courseName\": \"fielding\",\n",
    "        \"marks\": 40\n",
    "      }\n",
    "   ]\n",
    " }\n",
    "]\n",
    "\"\"\"\n",
    "\n",
    "ex2_expected_output = \"\"\"\n",
    "[\n",
    "  {\n",
    "    \"student\": \"Sachin\"\n",
    "    \"duplicateCourses\": [\n",
    "      {\n",
    "        \"courseName\": \"batting\"\n",
    "        \"duplicateCount\": 2\n",
    "      }\n",
    "    ]\n",
    "  }\n",
    "]\n",
    "\"\"\""
   ]
  },
  {
   "cell_type": "code",
   "execution_count": 9,
   "metadata": {},
   "outputs": [
    {
     "name": "stdout",
     "output_type": "stream",
     "text": [
      "llm_response:\n",
      "{'mongoDBQuery': [{'$unwind': '$courses'}, {'$group': {'_id': {'student': '$student', 'courseName': '$courses.courseName'}, 'count': {'$sum': 1}}}, {'$match': {'count': {'$gt': 1}}}, {'$group': {'_id': '$_id.student', 'duplicateCourses': {'$push': {'courseName': '$_id.courseName', 'duplicateCount': '$count'}}}}, {'$project': {'_id': 0, 'student': '$_id', 'duplicateCourses': 1}}], 'queryExplanation': \"The aggregation pipeline starts by unwinding the 'courses' array to deconstruct the array into separate documents. Then, it groups the documents by 'student' and 'courseName', and counts the occurrences of each course for each student. After that, it filters out the courses with a count greater than 1, indicating duplicate courses. Next, it regroups the data by 'student' and pushes the duplicate courses into an array. Finally, it projects the output to include only the 'student' and 'duplicateCourses' fields.\"}\n"
     ]
    }
   ],
   "source": [
    "llm_response = get_llm_response(ex2_input_data, ex2_expected_output)\n",
    "\n",
    "llm_response_json = json.loads(llm_response)\n",
    "print(f\"llm_response:\\n{llm_response_json}\")\n",
    "#print(f\"MongoDB Query:\\n{llm_response_json.get('mongoDBQuery')}\")\n",
    "#print(f\"\\nQuery Explanation: {llm_response_json.get('queryExplanation')}\")"
   ]
  },
  {
   "cell_type": "markdown",
   "metadata": {},
   "source": [
    "### Example 3 - Group By an attribute which is in the nested array\n",
    "The task is to group by author name to get the list of books written by them"
   ]
  },
  {
   "cell_type": "code",
   "execution_count": 10,
   "metadata": {},
   "outputs": [],
   "source": [
    "ex3_input_data = \"\"\"\n",
    "[\n",
    "  {\n",
    "    \"bookCategory\": \"Non-Fiction\",\n",
    "    \"books\": [\n",
    "      {\n",
    "        \"bookName\": \"Seven Habits\",\n",
    "        \"pages\": 200,\n",
    "        \"authors\": [\n",
    "          {\n",
    "            \"authorName\": \"Sachin\",\n",
    "            \"authorEmail\": \"sachin@gmail.com\"\n",
    "          },\n",
    "          {\n",
    "            \"authorName\": \"Sourav\",\n",
    "            \"authorEmail\": \"sourav@gmail.com\"\n",
    "          }\n",
    "        ]\n",
    "      },\n",
    "      {\n",
    "        \"bookName\": \"One thing\",\n",
    "        \"pages\": 100,\n",
    "        \"authors\": [\n",
    "          {\n",
    "            \"authorName\": \"Sachin\",\n",
    "            \"authorEmail\": \"sachin@gmail.com\"\n",
    "          }\n",
    "        ]\n",
    "      },\n",
    "      \n",
    "    ]\n",
    "  },\n",
    "  {\n",
    "    \"bookCategory\": \"Fiction\",\n",
    "    \"books\": [\n",
    "      {\n",
    "        \"bookName\": \"Harry Potter\",\n",
    "        \"pages\": 400,\n",
    "        \"authors\": [\n",
    "          {\n",
    "            \"authorName\": \"Sachin\",\n",
    "            \"authorEmail\": \"sachin@gmail.com\"\n",
    "          },\n",
    "          {\n",
    "            \"authorName\": \"Tim\",\n",
    "            \"authorEmail\": \"Tim@gmail.com\"\n",
    "          }\n",
    "        ]\n",
    "      },\n",
    "      {\n",
    "        \"bookName\": \"Alchemist\",\n",
    "        \"pages\": 100,\n",
    "        \"authors\": [\n",
    "          {\n",
    "            \"authorName\": \"Sourav\",\n",
    "            \"authorEmail\": \"sourav@gmail.com\"\n",
    "          }\n",
    "        ]\n",
    "      },\n",
    "      \n",
    "    ]\n",
    "  }\n",
    "]\n",
    "\"\"\"\n",
    "\n",
    "ex3_expected_output = \"\"\"\n",
    "[\n",
    "  {\n",
    "     \"authorName\": \"Sachin\",\n",
    "     \"bookName\": [\n",
    "        \"Seven Habits\",\n",
    "        \"One thing\",\n",
    "        \"Harry Potter\"\n",
    "     ] \n",
    "  },\n",
    "  {\n",
    "     \"authorName\": \"Sourav\",\n",
    "     \"bookName\": [\n",
    "        \"Seven Habits\",\n",
    "        \"Alchemist\"\n",
    "     ] \n",
    "  },\n",
    "  {\n",
    "     \"authorName\": \"Tim\",\n",
    "     \"bookName\": [\n",
    "        \"Harry Potter\"\n",
    "     ] \n",
    "  }\n",
    "]\n",
    "\"\"\""
   ]
  },
  {
   "cell_type": "code",
   "execution_count": 11,
   "metadata": {},
   "outputs": [
    {
     "name": "stdout",
     "output_type": "stream",
     "text": [
      "MongoDB Query:\n",
      "[{'$unwind': '$books'}, {'$unwind': '$books.authors'}, {'$group': {'_id': '$books.authors.authorName', 'bookName': {'$addToSet': '$books.bookName'}}}, {'$project': {'_id': 0, 'authorName': '$_id', 'bookName': 1}}]\n",
      "\n",
      "Query Explanation: The aggregation pipeline starts by unwinding the 'books' array to deconstruct the array into separate documents. Then, it unwinds the 'authors' array within each book document. Next, it groups the documents by the author's name and uses the $addToSet operator to create an array of unique book names for each author. Finally, it projects the output to rename the '_id' field to 'authorName' and includes the 'bookName' array in the result.\n"
     ]
    }
   ],
   "source": [
    "llm_response = get_llm_response(ex3_input_data, ex3_expected_output)\n",
    "\n",
    "llm_response_json = json.loads(llm_response)\n",
    "#print(f\"llm_response:\\n{llm_response_json}\")\n",
    "print(f\"MongoDB Query:\\n{llm_response_json.get('mongoDBQuery')}\")\n",
    "print(f\"\\nQuery Explanation: {llm_response_json.get('queryExplanation')}\")"
   ]
  },
  {
   "cell_type": "markdown",
   "metadata": {},
   "source": [
    "### Example 4: Extract nested array content into one single array"
   ]
  },
  {
   "cell_type": "code",
   "execution_count": 12,
   "metadata": {},
   "outputs": [],
   "source": [
    "ex4_input_data = \"\"\"\n",
    "[\n",
    "  {\n",
    "    \"bookCategory\": \"Non-Fiction\",\n",
    "    \"books\": [\n",
    "      {\n",
    "        \"bookName\": \"Seven Habits\",\n",
    "        \"pages\": 200,\n",
    "        \"authors\": [\n",
    "          {\n",
    "            \"authorName\": \"Sachin\",\n",
    "            \"authorEmail\": \"sachin@gmail.com\"\n",
    "          },\n",
    "          {\n",
    "            \"authorName\": \"Sourav\",\n",
    "            \"authorEmail\": \"sourav@gmail.com\"\n",
    "          }\n",
    "        ]\n",
    "      },\n",
    "      {\n",
    "        \"bookName\": \"One thing\",\n",
    "        \"pages\": 100,\n",
    "        \"authors\": [\n",
    "          {\n",
    "            \"authorName\": \"Sachin\",\n",
    "            \"authorEmail\": \"sachin@gmail.com\"\n",
    "          }\n",
    "        ]\n",
    "      },\n",
    "      \n",
    "    ]\n",
    "  },\n",
    "  {\n",
    "    \"bookCategory\": \"Fiction\",\n",
    "    \"books\": [\n",
    "      {\n",
    "        \"bookName\": \"Harry Potter\",\n",
    "        \"pages\": 400,\n",
    "        \"authors\": [\n",
    "          {\n",
    "            \"authorName\": \"Sachin\",\n",
    "            \"authorEmail\": \"sachin@gmail.com\"\n",
    "          },\n",
    "          {\n",
    "            \"authorName\": \"Tim\",\n",
    "            \"authorEmail\": \"Tim@gmail.com\"\n",
    "          }\n",
    "        ]\n",
    "      },\n",
    "      {\n",
    "        \"bookName\": \"Alchemist\",\n",
    "        \"pages\": 100,\n",
    "        \"authors\": [\n",
    "          {\n",
    "            \"authorName\": \"Sourav\",\n",
    "            \"authorEmail\": \"sourav@gmail.com\"\n",
    "          }\n",
    "        ]\n",
    "      },\n",
    "      \n",
    "    ]\n",
    "  }\n",
    "]\n",
    "\"\"\"\n",
    "\n",
    "ex4_expected_output = \"\"\"\n",
    "[\n",
    "  {\n",
    "    \"authors\": [\n",
    "      {\n",
    "        \"authorEmail\": \"sachin@gmail.com\",\n",
    "        \"authorName\": \"Sachin\"\n",
    "      },\n",
    "      {\n",
    "        \"authorEmail\": \"sourav@gmail.com\",\n",
    "        \"authorName\": \"Sourav\"\n",
    "      }\n",
    "    ],\n",
    "    \"bookName\": \"Seven Habits\",\n",
    "    \"pages\": 200\n",
    "  },\n",
    "  {\n",
    "    \"authors\": [\n",
    "      {\n",
    "        \"authorEmail\": \"sachin@gmail.com\",\n",
    "        \"authorName\": \"Sachin\"\n",
    "      }\n",
    "    ],\n",
    "    \"bookName\": \"One thing\",\n",
    "    \"pages\": 100\n",
    "  },\n",
    "  {\n",
    "    \"authors\": [\n",
    "      {\n",
    "        \"authorEmail\": \"sachin@gmail.com\",\n",
    "        \"authorName\": \"Sachin\"\n",
    "      },\n",
    "      {\n",
    "        \"authorEmail\": \"Tim@gmail.com\",\n",
    "        \"authorName\": \"Tim\"\n",
    "      }\n",
    "    ],\n",
    "    \"bookName\": \"Harry Potter\",\n",
    "    \"pages\": 400\n",
    "  },\n",
    "  {\n",
    "    \"authors\": [\n",
    "      {\n",
    "        \"authorEmail\": \"sourav@gmail.com\",\n",
    "        \"authorName\": \"Sourav\"\n",
    "      }\n",
    "    ],\n",
    "    \"bookName\": \"Alchemist\",\n",
    "    \"pages\": 100\n",
    "  }\n",
    "]\n",
    "\"\"\""
   ]
  },
  {
   "cell_type": "code",
   "execution_count": 13,
   "metadata": {},
   "outputs": [
    {
     "name": "stdout",
     "output_type": "stream",
     "text": [
      "MongoDB Query:\n",
      "[{'$unwind': '$books'}, {'$project': {'bookName': '$books.bookName', 'pages': '$books.pages', 'authors': '$books.authors'}}, {'$unwind': '$authors'}, {'$group': {'_id': {'bookName': '$bookName', 'pages': '$pages'}, 'authors': {'$addToSet': '$authors'}}}, {'$project': {'_id': 0, 'bookName': '$_id.bookName', 'pages': '$_id.pages', 'authors': 1}}]\n",
      "\n",
      "Query Explanation: The aggregation pipeline starts by unwinding the 'books' array to deconstruct the array into separate documents. Then, it projects the 'bookName', 'pages', and 'authors' fields. After that, it unwinds the 'authors' array to deconstruct the array into separate documents. Next, it groups the documents by 'bookName' and 'pages', and uses the $addToSet operator to create an array of unique authors for each book. Finally, it projects the final output with 'bookName', 'pages', and 'authors' fields while excluding the _id field.\n"
     ]
    }
   ],
   "source": [
    "llm_response = get_llm_response(ex4_input_data, ex4_expected_output)\n",
    "\n",
    "llm_response_json = json.loads(llm_response)\n",
    "#print(f\"llm_response:\\n{llm_response_json}\")\n",
    "print(f\"MongoDB Query:\\n{llm_response_json.get('mongoDBQuery')}\")\n",
    "print(f\"\\nQuery Explanation: {llm_response_json.get('queryExplanation')}\")"
   ]
  },
  {
   "cell_type": "markdown",
   "metadata": {},
   "source": [
    "### Example 5: extract nested array as objects"
   ]
  },
  {
   "cell_type": "code",
   "execution_count": 14,
   "metadata": {},
   "outputs": [],
   "source": [
    "ex5_input_data = \"\"\"\n",
    "[\n",
    "  {\n",
    "    \"bookName\": \"Seven Habits\",\n",
    "    \"pages\": 200,\n",
    "    \"authors\": [\n",
    "      {\n",
    "        \"authorName\": \"Sachin\",\n",
    "        \"authorEmail\": \"sachin@gmail.com\"\n",
    "      },\n",
    "      {\n",
    "        \"authorName\": \"Sourav\",\n",
    "        \"authorEmail\": \"sourav@gmail.com\"\n",
    "      }\n",
    "    ]\n",
    "  },\n",
    "  {\n",
    "    \"bookName\": \"One thing\",\n",
    "    \"pages\": 100,\n",
    "    \"authors\": [\n",
    "      {\n",
    "        \"authorName\": \"Sachin\",\n",
    "        \"authorEmail\": \"sachin@gmail.com\"\n",
    "      }\n",
    "    ]\n",
    "  },\n",
    "  {\n",
    "    \"bookName\": \"Harry Potter\",\n",
    "    \"pages\": 400,\n",
    "    \"authors\": [\n",
    "      {\n",
    "        \"authorName\": \"Sachin\",\n",
    "        \"authorEmail\": \"sachin@gmail.com\"\n",
    "      },\n",
    "      {\n",
    "        \"authorName\": \"Tim\",\n",
    "        \"authorEmail\": \"Tim@gmail.com\"\n",
    "      }\n",
    "    ]\n",
    "  },\n",
    "  {\n",
    "    \"bookName\": \"Alchemist\",\n",
    "    \"pages\": 100,\n",
    "    \"authors\": [\n",
    "      {\n",
    "        \"authorName\": \"Sourav\",\n",
    "        \"authorEmail\": \"sourav@gmail.com\"\n",
    "      }\n",
    "    ]\n",
    "  }\n",
    "]\n",
    "\"\"\"\n",
    "\n",
    "ex5_expected_output = \"\"\"\n",
    "[\n",
    "    {\n",
    "        \"bookName\": \"Seven Habits\",\n",
    "        \"pages\": 200,\n",
    "        \"authorName\": \"Sachin\",\n",
    "        \"authorEmail\": \"sachin@gmail.com\"\n",
    "    },\n",
    "    {\n",
    "        \"bookName\": \"Seven Habits\",\n",
    "        \"pages\": 200,\n",
    "        \"authorName\": \"Sourav\",\n",
    "        \"authorEmail\": \"sourav@gmail.com\"\n",
    "    },\n",
    "    {\n",
    "        \"bookName\": \"One thing\",\n",
    "        \"pages\": 100,\n",
    "        \"authorName\": \"Sachin\",\n",
    "        \"authorEmail\": \"sachin@gmail.com\"\n",
    "    },\n",
    "    {\n",
    "        \"bookName\": \"Harry Potter\",\n",
    "        \"pages\": 400,\n",
    "        \"authorName\": \"Sachin\",\n",
    "        \"authorEmail\": \"sachin@gmail.com\"\n",
    "    },\n",
    "    {\n",
    "        \"bookName\": \"Harry Potter\",\n",
    "        \"pages\": 400,\n",
    "        \"authorName\": \"Tim\",\n",
    "        \"authorEmail\": \"Tim@gmail.com\"\n",
    "    },\n",
    "    {\n",
    "        \"bookName\": \"Alchemist\",\n",
    "        \"pages\": 100,\n",
    "        \"authorName\": \"Sourav\",\n",
    "        \"authorEmail\": \"sourav@gmail.com\"\n",
    "    }\n",
    "]\n",
    "\"\"\""
   ]
  },
  {
   "cell_type": "code",
   "execution_count": 15,
   "metadata": {},
   "outputs": [
    {
     "name": "stdout",
     "output_type": "stream",
     "text": [
      "MongoDB Query:\n",
      "[{'$unwind': '$authors'}, {'$project': {'bookName': 1, 'pages': 1, 'authorName': '$authors.authorName', 'authorEmail': '$authors.authorEmail', '_id': 0}}]\n",
      "\n",
      "Query Explanation: The aggregation pipeline starts by using the $unwind stage to deconstruct the authors array, creating a separate document for each element in the array. Then, the $project stage is used to reshape the documents, including only the required fields such as bookName, pages, authorName, and authorEmail. The _id field is excluded from the output using '_id': 0.\n"
     ]
    }
   ],
   "source": [
    "llm_response = get_llm_response(ex5_input_data, ex5_expected_output)\n",
    "\n",
    "llm_response_json = json.loads(llm_response)\n",
    "#print(f\"llm_response:\\n{llm_response_json}\")\n",
    "print(f\"MongoDB Query:\\n{llm_response_json.get('mongoDBQuery')}\")\n",
    "print(f\"\\nQuery Explanation: {llm_response_json.get('queryExplanation')}\")"
   ]
  },
  {
   "cell_type": "markdown",
   "metadata": {},
   "source": [
    "### Example 6 - Aggregate and produce a summary"
   ]
  },
  {
   "cell_type": "code",
   "execution_count": 16,
   "metadata": {},
   "outputs": [],
   "source": [
    "ex6_input_data = \"\"\"\n",
    "[\n",
    "    {\n",
    "        \"studentName\": \"Pete\",\n",
    "        \"subjects\": [\n",
    "            {\n",
    "                \"subjectName\": \"Math\",\n",
    "                \"result\": \"passed\"\n",
    "            },\n",
    "            {\n",
    "                \"subjectName\": \"Physics\",\n",
    "                \"result\": \"passed\"\n",
    "            },\n",
    "            {\n",
    "                \"subjectName\": \"Chemistry\",\n",
    "                \"result\": \"failed\"\n",
    "            },\n",
    "            {\n",
    "                \"subjectName\": \"Botany\",\n",
    "                \"result\": \"failed\"\n",
    "            },\n",
    "            {\n",
    "                \"subjectName\": \"Zoology\",\n",
    "                \"result\": \"failed\"\n",
    "            }\n",
    "        ]\n",
    "    }\n",
    "]\n",
    "\"\"\"\n",
    "\n",
    "ex6_expected_output = \"\"\"\n",
    "{\n",
    "    \"totalSubjectCount\": 5,\n",
    "    \"totalResultPassedCount\": 2,\n",
    "    \"totalResultFailedCount\": 3\n",
    "}\n",
    "\"\"\""
   ]
  },
  {
   "cell_type": "code",
   "execution_count": 17,
   "metadata": {},
   "outputs": [
    {
     "name": "stdout",
     "output_type": "stream",
     "text": [
      "MongoDB Query:\n",
      "[{'$unwind': '$subjects'}, {'$group': {'_id': None, 'totalSubjectCount': {'$sum': 1}, 'totalResultPassedCount': {'$sum': {'$cond': [{'$eq': ['$subjects.result', 'passed']}, 1, 0]}}, 'totalResultFailedCount': {'$sum': {'$cond': [{'$eq': ['$subjects.result', 'failed']}, 1, 0]}}}}, {'$project': {'_id': 0, 'totalSubjectCount': 1, 'totalResultPassedCount': 1, 'totalResultFailedCount': 1}}]\n",
      "\n",
      "Query Explanation: The aggregation pipeline starts by unwinding the 'subjects' array to create a separate document for each subject. Then, it groups the documents to calculate the total count of subjects, the count of passed results, and the count of failed results using the $sum operator and $cond to conditionally count the results. Finally, the $project stage is used to reshape the output and remove the _id field.\n"
     ]
    }
   ],
   "source": [
    "llm_response = get_llm_response(ex6_input_data, ex6_expected_output)\n",
    "\n",
    "llm_response_json = json.loads(llm_response)\n",
    "#print(f\"llm_response:\\n{llm_response_json}\")\n",
    "print(f\"MongoDB Query:\\n{llm_response_json.get('mongoDBQuery')}\")\n",
    "print(f\"\\nQuery Explanation: {llm_response_json.get('queryExplanation')}\")"
   ]
  },
  {
   "cell_type": "markdown",
   "metadata": {},
   "source": [
    "### Import the packages necessary for Langchain Output parser"
   ]
  },
  {
   "cell_type": "code",
   "execution_count": 28,
   "metadata": {},
   "outputs": [],
   "source": [
    "from langchain.output_parsers import ResponseSchema\n",
    "from langchain.output_parsers import StructuredOutputParser\n",
    "import re"
   ]
  },
  {
   "cell_type": "code",
   "execution_count": 25,
   "metadata": {},
   "outputs": [],
   "source": [
    "chat_openai = ChatOpenAI(temperature=0, model=GPT_MODEL)"
   ]
  },
  {
   "cell_type": "code",
   "execution_count": 33,
   "metadata": {},
   "outputs": [],
   "source": [
    "prompt_template_with_format_instructions_str = \"\"\"\n",
    "Your task is to write a MongoDB Query, specifically an aggregation pipeline \\\n",
    "that would produce the expected output for the given input.\n",
    "\n",
    "mongodb_query: The MongoDB aggregation pipeline to produce the expected output for a given input.\\\n",
    "This field corresponds to just the list of stages in the aggregation pipeline \\\n",
    "and shouldn't contain the \"db.collection.aggregate\" prefix.\n",
    "\n",
    "query_explanation: Explanation of what the query is doing.\n",
    "\n",
    "Format the output as JSON with the following keys:\n",
    "mongodb_query\n",
    "query_explanation\n",
    "\n",
    "Input data: {input_data}\n",
    "Expected output: {expected_output}\n",
    "\n",
    "{format_instructions}\n",
    "\"\"\"\n",
    "\n",
    "prompt_template_with_format_instructions = ChatPromptTemplate.from_template(template=prompt_template_with_format_instructions_str)"
   ]
  },
  {
   "cell_type": "markdown",
   "metadata": {},
   "source": [
    "### Response Schema & Output Instructions"
   ]
  },
  {
   "cell_type": "code",
   "execution_count": 37,
   "metadata": {},
   "outputs": [],
   "source": [
    "mongodb_query_schema = \\\n",
    "    ResponseSchema(name=\"mongodb_query\",\n",
    "                   description=\"The MongoDB aggregation pipeline to produce the expected output for a given input.\\\n",
    "This field corresponds to just the list of stages in the aggregation pipeline and shouldn't contain the 'db.collection.aggregate' prefix.\")\n",
    "\n",
    "query_explanation_schema = ResponseSchema(name=\"query_explanation\",\n",
    "                                          description=\"Explanation of what the query is doing.\")\n",
    "\n",
    "response_schemas = [mongodb_query_schema, query_explanation_schema]"
   ]
  },
  {
   "cell_type": "code",
   "execution_count": 38,
   "metadata": {},
   "outputs": [
    {
     "name": "stdout",
     "output_type": "stream",
     "text": [
      "The output should be a markdown code snippet formatted in the following schema, including the leading and trailing \"```json\" and \"```\":\n",
      "\n",
      "```json\n",
      "{\n",
      "\t\"mongodb_query\": string  // The MongoDB aggregation pipeline to produce the expected output for a given input.This field corresponds to just the list of stages in the aggregation pipeline and shouldn't contain the 'db.collection.aggregate' prefix.\n",
      "\t\"query_explanation\": string  // Explanation of what the query is doing.\n",
      "}\n",
      "```\n"
     ]
    }
   ],
   "source": [
    "output_parser = StructuredOutputParser.from_response_schemas(response_schemas)\n",
    "format_instructions = output_parser.get_format_instructions()\n",
    "\n",
    "print(format_instructions)"
   ]
  },
  {
   "cell_type": "markdown",
   "metadata": {},
   "source": [
    "### Define a generic function to chat with AI assistant for various input"
   ]
  },
  {
   "cell_type": "code",
   "execution_count": 39,
   "metadata": {},
   "outputs": [],
   "source": [
    "def get_llm_response(input_data, expected_output, format_instructions):\n",
    "    messages = prompt_template_with_format_instructions.format_messages(input_data = input_data,\n",
    "                                                                        expected_output = expected_output,\n",
    "                                                                        format_instructions = format_instructions)\n",
    "    response = chat_openai(messages)\n",
    "    print(f\"LLM Response:\\n{response.content}\")\n",
    "\n",
    "    json_str = pre_process_json_str(response.content)\n",
    "    #print(f\"Pre-processed JSON str:\\n{json_str}\")\n",
    "    \n",
    "    output_dict = output_parser.parse(json_str)\n",
    "    return output_dict\n",
    "\n",
    "def pre_process_json_str(json_str):\n",
    "    json_str = re.sub(r\"\\n\", '', json_str)\n",
    "    json_str = re.sub(r\"\\r\", '', json_str)\n",
    "    json_str = re.sub(r\"\\t\", '', json_str)\n",
    "    return json_str"
   ]
  },
  {
   "cell_type": "code",
   "execution_count": 40,
   "metadata": {},
   "outputs": [
    {
     "name": "stdout",
     "output_type": "stream",
     "text": [
      "LLM Response:\n",
      "```json\n",
      "{\n",
      "\t\"mongodb_query\": [\n",
      "\t\t{ \n",
      "\t\t\t\"$group\": {\n",
      "\t\t\t\t\"_id\": \"$team\",\n",
      "\t\t\t\t\"playerCount\": { \"$sum\": 1 }\n",
      "\t\t\t}\n",
      "\t\t},\n",
      "\t\t{\n",
      "\t\t\t\"$project\": {\n",
      "\t\t\t\t\"_id\": 0,\n",
      "\t\t\t\t\"team\": \"$_id\",\n",
      "\t\t\t\t\"playerCount\": 1\n",
      "\t\t\t}\n",
      "\t\t}\n",
      "\t],\n",
      "\t\"query_explanation\": \"The aggregation pipeline first groups the documents by the 'team' field and calculates the count of players for each team using the $group stage. Then, the $project stage is used to reshape the output and exclude the _id field.\"\n",
      "}\n",
      "```\n",
      "MongoDB Query:\n",
      "[{'$group': {'_id': '$team', 'playerCount': {'$sum': 1}}}, {'$project': {'_id': 0, 'team': '$_id', 'playerCount': 1}}]\n",
      "\n",
      "Query Explanation: The aggregation pipeline first groups the documents by the 'team' field and calculates the count of players for each team using the $group stage. Then, the $project stage is used to reshape the output and exclude the _id field.\n"
     ]
    }
   ],
   "source": [
    "llm_response = get_llm_response(ex1_input_data, ex1_expected_output, format_instructions)\n",
    "\n",
    "print(f\"MongoDB Query:\\n{llm_response.get('mongodb_query')}\")\n",
    "print(f\"\\nQuery Explanation: {llm_response.get('query_explanation')}\")"
   ]
  },
  {
   "cell_type": "markdown",
   "metadata": {},
   "source": [
    "### Unit test for pre_process_json_str function"
   ]
  },
  {
   "cell_type": "code",
   "execution_count": null,
   "metadata": {},
   "outputs": [],
   "source": [
    "import re\n",
    "value = \"\"\"{\n",
    "\t\"mongodb_query\": \"db.collection.aggregate([\n",
    "\t\t{ $unwind: '$books' },\n",
    "\t\t{ $project: {\n",
    "\t\t\tbookName: '$books.bookName',\n",
    "\t\t\tpages: '$books.pages',\n",
    "\t\t\tauthors: '$books.authors'\n",
    "\t\t} }\n",
    "\t])\",\n",
    "\t\"query_explanation\": \"The query starts by using the $unwind operator to flatten the 'books' array. Then, the $project operator is used to select the desired fields 'bookName', 'pages', and 'authors' from the flattened documents. The result is the expected output.\"\n",
    "}\"\"\"\n",
    "value = re.sub(r\"\\n\", '', value)\n",
    "value = re.sub(r\"\\r\", '', value)\n",
    "value = re.sub(r\"\\t\", '', value)\n",
    "value = re.sub(r'(?<!\\\\)\"', r\"\\\"\", value)\n",
    "print(value)"
   ]
  }
 ],
 "metadata": {
  "kernelspec": {
   "display_name": ".venv_mqg_lc",
   "language": "python",
   "name": ".venv_mqg_lc"
  },
  "language_info": {
   "codemirror_mode": {
    "name": "ipython",
    "version": 3
   },
   "file_extension": ".py",
   "mimetype": "text/x-python",
   "name": "python",
   "nbconvert_exporter": "python",
   "pygments_lexer": "ipython3",
   "version": "3.11.5"
  }
 },
 "nbformat": 4,
 "nbformat_minor": 4
}
