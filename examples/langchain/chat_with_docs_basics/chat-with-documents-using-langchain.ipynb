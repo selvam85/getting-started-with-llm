{
 "cells": [
  {
   "cell_type": "markdown",
   "id": "7e6f0b0a-0306-4f90-a81a-400a643f84df",
   "metadata": {},
   "source": [
    "## Chat with documents using Langchain"
   ]
  },
  {
   "cell_type": "markdown",
   "id": "db6adad5-bbbc-4be6-9d24-7d717807e97b",
   "metadata": {},
   "source": [
    "### Optional step: Check to ensure we are using the right virtual env."
   ]
  },
  {
   "cell_type": "code",
   "execution_count": null,
   "id": "fb0039b3-558d-4377-91c7-22ca66e85b41",
   "metadata": {},
   "outputs": [],
   "source": [
    "import sys\n",
    "sys.prefix"
   ]
  },
  {
   "cell_type": "code",
   "execution_count": null,
   "id": "09323160-7abc-4c56-b707-57020f7ff245",
   "metadata": {},
   "outputs": [],
   "source": [
    "pip --version"
   ]
  },
  {
   "cell_type": "markdown",
   "id": "9666e8ba-a969-48e3-b8ea-db44803c820f",
   "metadata": {},
   "source": [
    "### Install the required libraries"
   ]
  },
  {
   "cell_type": "code",
   "execution_count": null,
   "id": "2e3cba67-33a1-49a5-a7d9-cbaa08a67f23",
   "metadata": {},
   "outputs": [],
   "source": [
    "!pip install openai\n",
    "!pip install python-dotenv\n",
    "!pip install langchain\n",
    "!pip install pypdf\n",
    "!pip install chromadb\n",
    "!pip install tiktoken\n",
    "!pip install lark #Parsing library for Python. Lark can parse any context-free grammar."
   ]
  },
  {
   "cell_type": "code",
   "execution_count": 105,
   "id": "b8bfd88d-fd9c-43ef-8cf4-4047943658b6",
   "metadata": {},
   "outputs": [
    {
     "name": "stdout",
     "output_type": "stream",
     "text": [
      "Note: you may need to restart the kernel to use updated packages.\n"
     ]
    }
   ],
   "source": [
    "pip freeze > requirements.txt"
   ]
  },
  {
   "cell_type": "markdown",
   "id": "9b3ffe76-d3f5-4189-840e-caa1bb77ff3d",
   "metadata": {},
   "source": [
    "### Import the necessary libraries"
   ]
  },
  {
   "cell_type": "code",
   "execution_count": 1,
   "id": "1ca6b8c7-21c4-4b44-9477-a3adf7701543",
   "metadata": {},
   "outputs": [],
   "source": [
    "import openai\n",
    "import os\n",
    "from dotenv import load_dotenv, find_dotenv"
   ]
  },
  {
   "cell_type": "markdown",
   "id": "7d2d71b4-a86d-43a7-aeb9-906b2f68dec9",
   "metadata": {},
   "source": [
    "### Setup OpenAI API"
   ]
  },
  {
   "cell_type": "code",
   "execution_count": 2,
   "id": "df48d90c-afd1-4bc9-bbd8-af663dc2f591",
   "metadata": {},
   "outputs": [],
   "source": [
    "_ = load_dotenv(find_dotenv()) # read local .env file\n",
    "openai.api_key  = os.environ['OPENAI_API_KEY']"
   ]
  },
  {
   "cell_type": "markdown",
   "id": "f3c42996-2b0f-460d-94df-87f958dd67bc",
   "metadata": {},
   "source": [
    "### Instantiate the LLM"
   ]
  },
  {
   "cell_type": "code",
   "execution_count": 51,
   "id": "c41cb131-0af7-4b76-88fe-4723039e0380",
   "metadata": {},
   "outputs": [],
   "source": [
    "from langchain.chat_models import ChatOpenAI\n",
    "\n",
    "llm = ChatOpenAI(temperature=0) #gpt-3.5-turbo is the default model used"
   ]
  },
  {
   "cell_type": "markdown",
   "id": "0fbd2701-fa7b-4809-9352-83d1c62f4b68",
   "metadata": {},
   "source": [
    "### Load the document"
   ]
  },
  {
   "cell_type": "code",
   "execution_count": 3,
   "id": "92010093-9fde-4d08-92dc-4e4e950a70ec",
   "metadata": {},
   "outputs": [
    {
     "name": "stdout",
     "output_type": "stream",
     "text": [
      "Number of pages in the book: 501\n"
     ]
    }
   ],
   "source": [
    "from langchain.document_loaders import PyPDFLoader\n",
    "\n",
    "loader = PyPDFLoader(\"docs/progit.pdf\")\n",
    "pages = loader.load()\n",
    "\n",
    "print(f\"Number of pages in the book: {len(pages)}\")"
   ]
  },
  {
   "cell_type": "markdown",
   "id": "f492e915-54bf-4ce9-bede-2b56e0944990",
   "metadata": {},
   "source": [
    "## Split the document in chunks"
   ]
  },
  {
   "cell_type": "code",
   "execution_count": 4,
   "id": "301bbac4-5f93-4beb-a18d-3c9f65d71ec7",
   "metadata": {},
   "outputs": [
    {
     "name": "stdout",
     "output_type": "stream",
     "text": [
      "Number of chunks: 1247\n"
     ]
    }
   ],
   "source": [
    "from langchain.text_splitter import RecursiveCharacterTextSplitter\n",
    "\n",
    "r_text_splitter = RecursiveCharacterTextSplitter(chunk_size=1000, chunk_overlap=200)\n",
    "chunks = r_text_splitter.split_documents(pages)\n",
    "\n",
    "print(f\"Number of chunks: {len(chunks)}\")"
   ]
  },
  {
   "cell_type": "code",
   "execution_count": 5,
   "id": "a0b3bd58-bfbc-4f9c-b580-7199ad1eba1a",
   "metadata": {},
   "outputs": [
    {
     "name": "stdout",
     "output_type": "stream",
     "text": [
      "chunk_31: page_content='anywhere near the ubiquity it has today. Since then, nearly every open source community has\\nadopted it. Git has made incredible progress on Windows, in the explosion of graphical user\\ninterfaces to it for all platforms, in IDE support and in business use. The Pro Git of four years ago\\nknows about none of that. One of the main aims of this new edition is to touch on all of those new\\nfrontiers in the Git community.\\nThe Open Source community using Git has also exploded. When I originally sat down to write the\\nbook nearly five years ago (it took me a while to get the first version out), I had just started working\\nat a very little known company developing a Git hosting website called GitHub. At the time of\\npublishing there were maybe a few thousand people using the site and just four of us working on it.\\nAs I write this introduction, GitHub is announcing our 10 millionth hosted project, with nearly 5' metadata={'source': 'docs/progit.pdf', 'page': 7}\n",
      "\n",
      "chunk_32: page_content='publishing there were maybe a few thousand people using the site and just four of us working on it.\\nAs I write this introduction, GitHub is announcing our 10 millionth hosted project, with nearly 5\\nmillion registered developer accounts and over 230 employees. Love it or hate it, GitHub has\\nheavily changed large swaths of the Open Source community in a way that was barely conceivable\\nwhen I sat down to write the first edition.\\nI wrote a small section in the original version of Pro Git about GitHub as an example of hosted Git\\nwhich I was never very comfortable with. I didn’t much like that I was writing what I felt was\\nessentially a community resource and also talking about my company in it. While I still don’t love\\nthat conflict of interests, the importance of GitHub in the Git community is unavoidable. Instead of\\nan example of Git hosting, I have decided to turn that part of the book into more deeply describing' metadata={'source': 'docs/progit.pdf', 'page': 7}\n",
      "\n",
      "chunk_33: page_content='an example of Git hosting, I have decided to turn that part of the book into more deeply describing\\nwhat GitHub is and how to effectively use it. If you are going to learn how to use Git then knowing\\nhow to use GitHub will help you take part in a huge community, which is valuable no matter which\\nGit host you decide to use for your own code.\\nThe other large change in the time since the last publishing has been the development and rise of\\nthe HTTP protocol for Git network transactions. Most of the examples in the book have been\\nchanged to HTTP from SSH because it’s so much simpler.\\nIt’s been amazing to watch Git grow over the past few years from a relatively obscure version\\ncontrol system to basically dominating commercial and open source version control. I’m happy that\\nPro Git has done so well and has also been able to be one of the few technical books on the market\\nthat is both quite successful and fully open source.\\nI hope you enjoy this updated edition of Pro Git.\\n2' metadata={'source': 'docs/progit.pdf', 'page': 7}\n",
      "\n",
      "chunk_34: page_content='Preface by Ben Straub\\nThe first edition of this book is what got me hooked on Git. This was my introduction to a style of\\nmaking software that felt more natural than anything I had seen before. I had been a developer for\\nseveral years by then, but this was the right turn that sent me down a much more interesting path\\nthan the one I was on.\\nNow, years later, I’m a contributor to a major Git implementation, I’ve worked for the largest Git\\nhosting company, and I’ve traveled the world teaching people about Git. When Scott asked if I’d be\\ninterested in working on the second edition, I didn’t even have to think.\\nIt’s been a great pleasure and privilege to work on this book. I hope it helps you as much as it did\\nme.\\n3' metadata={'source': 'docs/progit.pdf', 'page': 8}\n",
      "\n"
     ]
    }
   ],
   "source": [
    "for i in range(30, 34):\n",
    "    print(f\"chunk_{i+1}: {chunks[i]}\\n\")"
   ]
  },
  {
   "cell_type": "markdown",
   "id": "5f13fa20-626e-40e8-9501-f72b051f3021",
   "metadata": {},
   "source": [
    "## Create Embeddings and store in a Vector Database"
   ]
  },
  {
   "cell_type": "code",
   "execution_count": 6,
   "id": "e891362e-1793-4453-97a5-04fcf811f6f4",
   "metadata": {},
   "outputs": [],
   "source": [
    "db_dir = \"chatdb/chroma\"\n",
    "!rm -rf ./chatdb/chroma"
   ]
  },
  {
   "cell_type": "code",
   "execution_count": 7,
   "id": "4a217c33-e6d4-4173-ad86-14a5272493fb",
   "metadata": {},
   "outputs": [],
   "source": [
    "from langchain.embeddings.openai import OpenAIEmbeddings\n",
    "embedding = OpenAIEmbeddings()"
   ]
  },
  {
   "cell_type": "code",
   "execution_count": 8,
   "id": "e411e8b3-1318-43cc-b11b-79fed5a3915c",
   "metadata": {},
   "outputs": [
    {
     "name": "stdout",
     "output_type": "stream",
     "text": [
      "Number of collections: 1247\n"
     ]
    }
   ],
   "source": [
    "from langchain.vectorstores import Chroma\n",
    "vector_db = Chroma.from_documents(documents=chunks, embedding=embedding, persist_directory=db_dir)\n",
    "vector_db.persist()\n",
    "\n",
    "print(f\"Number of collections: {vector_db._collection.count()}\")"
   ]
  },
  {
   "cell_type": "markdown",
   "id": "3432e807-ba0e-4d02-8d15-210c38b02246",
   "metadata": {},
   "source": [
    "## Query and retrieve data"
   ]
  },
  {
   "cell_type": "markdown",
   "id": "9ca6cd4c-fb49-4c50-ad47-87c3b9f75e78",
   "metadata": {},
   "source": [
    "### Similarity Search"
   ]
  },
  {
   "cell_type": "code",
   "execution_count": null,
   "id": "ba62d954-ea74-41d0-b7c3-3ddc2f9a5cc2",
   "metadata": {},
   "outputs": [],
   "source": [
    "question = \"who are the authors of this book?\"\n",
    "docs = vector_db.similarity_search(question, k=10)\n",
    "\n",
    "for i in range(10):\n",
    "    print(f\"doc[{i+1}]: {docs[i]}\\n\")"
   ]
  },
  {
   "cell_type": "markdown",
   "id": "3a39a316-f730-4a23-9900-8ee0f9c6eef3",
   "metadata": {},
   "source": [
    "### Maximum Marginal Relevance"
   ]
  },
  {
   "cell_type": "code",
   "execution_count": null,
   "id": "d817658f-a839-40ad-b07c-3070daaaafd8",
   "metadata": {},
   "outputs": [],
   "source": [
    "question = \"who are the authors of this book?\"\n",
    "docs = vector_db.max_marginal_relevance_search(question, k=10)\n",
    "\n",
    "for i in range(10):\n",
    "    print(f\"doc[{i+1}]: {docs[i]}\\n\")"
   ]
  },
  {
   "cell_type": "markdown",
   "id": "48146862-07ea-45d3-bfc9-d74aef1f15d6",
   "metadata": {},
   "source": [
    "### Self Query Retrieval"
   ]
  },
  {
   "cell_type": "code",
   "execution_count": 24,
   "id": "15fe4721-4214-4ce1-a499-cc346c6d7d3b",
   "metadata": {},
   "outputs": [],
   "source": [
    "from langchain.retrievers.self_query.base import SelfQueryRetriever\n",
    "from langchain.chains.query_constructor.base import AttributeInfo"
   ]
  },
  {
   "cell_type": "code",
   "execution_count": 48,
   "id": "706d2416-2dfd-4791-8436-08aa3b2e6dd0",
   "metadata": {},
   "outputs": [],
   "source": [
    "document_content_description = \"A book on Git\"\n",
    "metadata_field_info = [\n",
    "    AttributeInfo(\n",
    "        name=\"source\",\n",
    "        description=\"The book the chunk is from, it should be from `docs/progit.pdf`\",\n",
    "        type=\"string\",\n",
    "    ),\n",
    "    AttributeInfo(\n",
    "        name=\"page\",\n",
    "        description=\"The page from the book\",\n",
    "        type=\"integer\",\n",
    "    ),\n",
    "]"
   ]
  },
  {
   "cell_type": "code",
   "execution_count": 38,
   "id": "19e3aa4a-533d-4c92-b7e5-a2ea01d117ab",
   "metadata": {},
   "outputs": [],
   "source": [
    "sq_retriever = SelfQueryRetriever.from_llm(\n",
    "    llm, \n",
    "    vector_db, \n",
    "    document_content_description,\n",
    "    metadata_field_info,\n",
    "    #search_type=\"mmr\", #kwargs\n",
    "    #enable_limit=True,\n",
    "    verbose=True\n",
    ")"
   ]
  },
  {
   "cell_type": "code",
   "execution_count": 34,
   "id": "c7f364cc-babb-4fb2-8443-a6af312b7ab0",
   "metadata": {},
   "outputs": [
    {
     "name": "stdout",
     "output_type": "stream",
     "text": [
      "similarity\n",
      "True\n"
     ]
    }
   ],
   "source": [
    "print(sq_retriever.search_type)"
   ]
  },
  {
   "cell_type": "markdown",
   "id": "214cf6cf-96e3-4708-bb8c-3050ed7679ea",
   "metadata": {},
   "source": [
    "### Retrieve the relevant documents"
   ]
  },
  {
   "cell_type": "code",
   "execution_count": 44,
   "id": "d79b5ada-e4ce-4361-a7ab-7690ad109b0f",
   "metadata": {},
   "outputs": [
    {
     "name": "stdout",
     "output_type": "stream",
     "text": [
      "{'page': 103, 'source': 'docs/progit.pdf'}\n",
      "{'page': 109, 'source': 'docs/progit.pdf'}\n",
      "{'page': 108, 'source': 'docs/progit.pdf'}\n",
      "{'page': 109, 'source': 'docs/progit.pdf'}\n"
     ]
    }
   ],
   "source": [
    "question = \"What is the main focus of discussion between the pages 100 to 120?\"\n",
    "#question = \"What is the 2 main focus of discussion between the pages 100 to 120?\" #Limiting the number of documents returned doesn't work\n",
    "\n",
    "docs = sq_retriever.get_relevant_documents(question)\n",
    "for doc in docs:\n",
    "    print(doc.metadata)"
   ]
  },
  {
   "cell_type": "markdown",
   "id": "5030e5e7-519b-4067-b7d1-147d2f2abc07",
   "metadata": {},
   "source": [
    "### Retrieves n number of relevant documents\n",
    "\n",
    "We need to set the `enable_limit` parameter to True in order to fetch `k` number of documents.  \n",
    "**Reference**: https://python.langchain.com/docs/modules/data_connection/retrievers/self_query/#filter-k"
   ]
  },
  {
   "cell_type": "code",
   "execution_count": 45,
   "id": "b7c3ae1e-9fc6-4042-bf87-a74dc4e95425",
   "metadata": {},
   "outputs": [],
   "source": [
    "sq_retriever_1 = SelfQueryRetriever.from_llm(\n",
    "    llm, \n",
    "    vector_db, \n",
    "    document_content_description,\n",
    "    metadata_field_info,\n",
    "    enable_limit=True,\n",
    "    verbose=True\n",
    ")"
   ]
  },
  {
   "cell_type": "code",
   "execution_count": 46,
   "id": "327b67b6-dfa6-452b-8f49-9f491c05fbfd",
   "metadata": {},
   "outputs": [
    {
     "name": "stdout",
     "output_type": "stream",
     "text": [
      "{'page': 105, 'source': 'docs/progit.pdf'}\n",
      "{'page': 110, 'source': 'docs/progit.pdf'}\n"
     ]
    }
   ],
   "source": [
    "question = \"What is the 2 main focus of discussion between the pages 100 to 120?\"\n",
    "\n",
    "docs = sq_retriever_1.get_relevant_documents(question)\n",
    "for doc in docs:\n",
    "    print(doc.metadata)"
   ]
  },
  {
   "cell_type": "code",
   "execution_count": 47,
   "id": "3b4ac700-d1e4-49d5-8376-844b42f15872",
   "metadata": {},
   "outputs": [
    {
     "name": "stdout",
     "output_type": "stream",
     "text": [
      "{'page': 10, 'source': 'docs/progit.pdf'}\n",
      "{'page': 11, 'source': 'docs/progit.pdf'}\n",
      "{'page': 10, 'source': 'docs/progit.pdf'}\n",
      "{'page': 10, 'source': 'docs/progit.pdf'}\n"
     ]
    }
   ],
   "source": [
    "question = \"who are the original or main authors of this book?\"\n",
    "\n",
    "docs = sq_retriever.get_relevant_documents(question)\n",
    "for doc in docs:\n",
    "    print(doc.metadata)"
   ]
  },
  {
   "cell_type": "markdown",
   "id": "489c4a2b-d9b8-4fc8-a7dd-df6b025f70fa",
   "metadata": {},
   "source": [
    "## Question and Answer\n",
    "Pass the chunks retrieved from the vector store to a LLM Model to get a final answer for the user question."
   ]
  },
  {
   "cell_type": "markdown",
   "id": "9ef7d6ae-ba83-4e00-8763-1d6ec11d9130",
   "metadata": {},
   "source": [
    "### Using RetrievalQA chain"
   ]
  },
  {
   "cell_type": "code",
   "execution_count": 71,
   "id": "30daeab5-2be6-4f5e-b02f-4176cbd1893a",
   "metadata": {},
   "outputs": [],
   "source": [
    "from langchain.chains import RetrievalQA\n",
    "\n",
    "qa_chain = RetrievalQA.from_chain_type(\n",
    "    llm=llm, \n",
    "    retriever=vector_db.as_retriever(), #default is similarity search\n",
    "    #retriever=vector_db.as_retriever(search_type=\"mmr\"),\n",
    "    #retriever=sq_retriever,\n",
    "    return_source_documents=True,\n",
    "    verbose=True\n",
    ")"
   ]
  },
  {
   "cell_type": "code",
   "execution_count": 72,
   "id": "d1906daa-b90c-496f-a1d3-353bc70aa887",
   "metadata": {},
   "outputs": [
    {
     "name": "stdout",
     "output_type": "stream",
     "text": [
      "similarity\n"
     ]
    }
   ],
   "source": [
    "print(qa_chain.retriever.search_type)"
   ]
  },
  {
   "cell_type": "code",
   "execution_count": 73,
   "id": "e655ec92-5583-4c70-ad4e-77ae918698ee",
   "metadata": {},
   "outputs": [
    {
     "name": "stdout",
     "output_type": "stream",
     "text": [
      "\n",
      "\n",
      "\u001b[1m> Entering new RetrievalQA chain...\u001b[0m\n",
      "\n",
      "\u001b[1m> Finished chain.\u001b[0m\n",
      "The authors of this book are Scott Chacon and Ben Straub.\n"
     ]
    }
   ],
   "source": [
    "question = \"who are the authors of this book?\"\n",
    "response = qa_chain({\"query\": question})\n",
    "\n",
    "print(response[\"result\"])"
   ]
  },
  {
   "cell_type": "code",
   "execution_count": 70,
   "id": "af8b3c9f-bf57-4c0f-9d10-edbacad7d9b7",
   "metadata": {},
   "outputs": [
    {
     "name": "stdout",
     "output_type": "stream",
     "text": [
      "{'query': 'who are the authors of this book?', 'result': 'The authors of this book are Scott Chacon and Ben Straub.', 'source_documents': [Document(page_content='Contributors\\nSince this is an Open Source book, we have gotten several errata and content changes donated over\\nthe years. Here are all the people who have contributed to the English version of Pro Git as an open\\nsource project. Thank you everyone for helping make this a better book for everyone.\\nContributors as of 3c1bc3b8:\\n4wk-                            Jon Freed                       Sean Jacobs\\nAdam Laflamme                   Jonathan                        Sebastian Krause\\nAdrien Ollier                   Jordan Hayashi                  Sergey Kuznetsov\\nAkrom K                         Joris Valette                   Severino Lorilla Jr\\nAlan D. Salewski                Josh Byster                     Shengbin Meng\\nAlba Mendez                     Joshua Webb                     Sherry Hietala\\nAleh Suprunovich                Junjie Yuan                     Shi Yan\\nAlex Povel                      Junyeong Yim                    Siarhei Bobryk', metadata={'page': 10, 'source': 'docs/progit.pdf'}), Document(page_content='Table of Contents\\nLicense . . . . . . . . . . . . . . . . . . . . . . . . . . . . . . . . . . . . . . . . . . . . . . . . . . . . . . . . . . . . . . . . . . . . . . . . . . . . . . . . . . . . . \\xa01\\nPreface by Scott Chacon . . . . . . . . . . . . . . . . . . . . . . . . . . . . . . . . . . . . . . . . . . . . . . . . . . . . . . . . . . . . . . . . . . . . . \\xa02\\nPreface by Ben Straub . . . . . . . . . . . . . . . . . . . . . . . . . . . . . . . . . . . . . . . . . . . . . . . . . . . . . . . . . . . . . . . . . . . . . . . \\xa03\\nDedications . . . . . . . . . . . . . . . . . . . . . . . . . . . . . . . . . . . . . . . . . . . . . . . . . . . . . . . . . . . . . . . . . . . . . . . . . . . . . . . . . \\xa04\\nContributors . . . . . . . . . . . . . . . . . . . . . . . . . . . . . . . . . . . . . . . . . . . . . . . . . . . . . . . . . . . . . . . . . . . . . . . . . . . . . . . . \\xa05', metadata={'page': 2, 'source': 'docs/progit.pdf'}), Document(page_content='Preface by Ben Straub\\nThe first edition of this book is what got me hooked on Git. This was my introduction to a style of\\nmaking software that felt more natural than anything I had seen before. I had been a developer for\\nseveral years by then, but this was the right turn that sent me down a much more interesting path\\nthan the one I was on.\\nNow, years later, I’m a contributor to a major Git implementation, I’ve worked for the largest Git\\nhosting company, and I’ve traveled the world teaching people about Git. When Scott asked if I’d be\\ninterested in working on the second edition, I didn’t even have to think.\\nIt’s been a great pleasure and privilege to work on this book. I hope it helps you as much as it did\\nme.\\n3', metadata={'page': 8, 'source': 'docs/progit.pdf'}), Document(page_content='C Nguyen                        Masood Fallahpoor               Vitaly Kuznetsov\\nCadel Watson                    Mathieu Dubreuilh               Volker Weißmann\\nCarlos Martín Nieto             Matt Cooper                     Volker-Weissmann\\nCarlos Tafur                    Matt Trzcinski                  Wesley Gonçalves\\n5', metadata={'page': 10, 'source': 'docs/progit.pdf'})]}\n"
     ]
    }
   ],
   "source": [
    "print(response)"
   ]
  },
  {
   "cell_type": "markdown",
   "id": "2c7cc45e-870f-496c-a252-97506154fc7e",
   "metadata": {},
   "source": [
    "## Chat\n",
    "### Memory"
   ]
  },
  {
   "cell_type": "code",
   "execution_count": 91,
   "id": "984906b2-fbf2-42ab-8f02-e378f0bf3f41",
   "metadata": {},
   "outputs": [],
   "source": [
    "from langchain.memory import ConversationBufferMemory\n",
    "\n",
    "memory = ConversationBufferMemory(\n",
    "    memory_key=\"chat_history\",\n",
    "    return_messages=True,\n",
    "    output_key=\"answer\"\n",
    ")"
   ]
  },
  {
   "cell_type": "markdown",
   "id": "f0052c69-681e-402e-9080-055eb5924cc4",
   "metadata": {},
   "source": [
    "### Using ConversationalRetrievalChain"
   ]
  },
  {
   "cell_type": "code",
   "execution_count": 92,
   "id": "85d5443b-5e64-47a5-97c4-65454918bd73",
   "metadata": {},
   "outputs": [],
   "source": [
    "from langchain.chains import ConversationalRetrievalChain\n",
    "\n",
    "chat_history = []\n",
    "conv_chain = ConversationalRetrievalChain.from_llm(\n",
    "    llm=llm,\n",
    "    retriever=vector_db.as_retriever(search_type=\"mmr\"),\n",
    "    return_source_documents=True,\n",
    "    #verbose=True,\n",
    "    memory=memory\n",
    ")"
   ]
  },
  {
   "cell_type": "code",
   "execution_count": 93,
   "id": "9d9fccda-6005-4cfc-b96c-abf6f5b2810d",
   "metadata": {},
   "outputs": [
    {
     "name": "stdout",
     "output_type": "stream",
     "text": [
      "{'question': 'who are the authors of this book?', 'chat_history': [HumanMessage(content='who are the authors of this book?'), AIMessage(content='The authors of this book are Ben Straub and Scott Chacon.')], 'answer': 'The authors of this book are Ben Straub and Scott Chacon.', 'source_documents': [Document(page_content='Contributors\\nSince this is an Open Source book, we have gotten several errata and content changes donated over\\nthe years. Here are all the people who have contributed to the English version of Pro Git as an open\\nsource project. Thank you everyone for helping make this a better book for everyone.\\nContributors as of 3c1bc3b8:\\n4wk-                            Jon Freed                       Sean Jacobs\\nAdam Laflamme                   Jonathan                        Sebastian Krause\\nAdrien Ollier                   Jordan Hayashi                  Sergey Kuznetsov\\nAkrom K                         Joris Valette                   Severino Lorilla Jr\\nAlan D. Salewski                Josh Byster                     Shengbin Meng\\nAlba Mendez                     Joshua Webb                     Sherry Hietala\\nAleh Suprunovich                Junjie Yuan                     Shi Yan\\nAlex Povel                      Junyeong Yim                    Siarhei Bobryk', metadata={'page': 10, 'source': 'docs/progit.pdf'}), Document(page_content='Frederico Mazzone               Reza Ahmadi                     peterwwillis\\nFrej Drejhammar                 Richard Hoyle                   petsuter\\nGuthrie McAfee Armstrong        Ricky Senft                     rahrah\\nHairyFotr                       Rintze M. Zelle                 rmzelle\\nHamidreza Mahdavipanah          Rob Blanco                      root\\nHaruo Nakayama                  Robert P. Goldman               sanders@oreilly.com\\nHelmut K. C. Tessarek           Robert P. J. Day                sharpiro\\n6', metadata={'page': 11, 'source': 'docs/progit.pdf'}), Document(page_content='Dedications\\nTo my wife, Becky, without whom this adventure never would have begun. — Ben\\nThis edition is dedicated to my girls. To my wife Jessica who has supported me for all of these years\\nand to my daughter Josephine, who will support me when I’m too old to know what’s going on. —\\nScott\\n4', metadata={'page': 9, 'source': 'docs/progit.pdf'}), Document(page_content='License\\nThis work is licensed under the Creative Commons Attribution-NonCommercial-ShareAlike 3.0\\nUnported License. To view a copy of this license, visit https://creativecommons.org/licenses/by-nc-\\nsa/3.0  or send a letter to Creative Commons, PO Box 1866, Mountain View, CA 94042, USA.\\n1', metadata={'page': 6, 'source': 'docs/progit.pdf'})]}\n"
     ]
    }
   ],
   "source": [
    "question = \"who are the authors of this book?\"\n",
    "response = conv_chain({\"question\": question})\n",
    "\n",
    "print(response)"
   ]
  },
  {
   "cell_type": "code",
   "execution_count": 94,
   "id": "3e135734-5b3c-49e4-a9d4-4193e5b6b00c",
   "metadata": {},
   "outputs": [
    {
     "name": "stdout",
     "output_type": "stream",
     "text": [
      "The authors of this book are Ben Straub and Scott Chacon.\n"
     ]
    }
   ],
   "source": [
    "print(response[\"answer\"])"
   ]
  },
  {
   "cell_type": "code",
   "execution_count": 95,
   "id": "61c67cd7-6a77-49dc-a76a-94b466fdea5c",
   "metadata": {},
   "outputs": [
    {
     "name": "stdout",
     "output_type": "stream",
     "text": [
      "{'question': 'please give more details about them.', 'chat_history': [HumanMessage(content='who are the authors of this book?'), AIMessage(content='The authors of this book are Ben Straub and Scott Chacon.'), HumanMessage(content='please give more details about them.'), AIMessage(content='Ben Straub is one of the authors of the book \"Pro Git.\" He has written a preface for the book and is mentioned in the dedications section, where he expresses gratitude to his wife, Becky, for her support in embarking on this adventure.\\n\\nScott Chacon is also one of the authors of \"Pro Git.\" He has written a preface for the book and is mentioned in the dedications section. Scott dedicates this edition of the book to his wife, Jessica, and his daughter, Josephine, expressing appreciation for their support throughout the years and in the future.')], 'answer': 'Ben Straub is one of the authors of the book \"Pro Git.\" He has written a preface for the book and is mentioned in the dedications section, where he expresses gratitude to his wife, Becky, for her support in embarking on this adventure.\\n\\nScott Chacon is also one of the authors of \"Pro Git.\" He has written a preface for the book and is mentioned in the dedications section. Scott dedicates this edition of the book to his wife, Jessica, and his daughter, Josephine, expressing appreciation for their support throughout the years and in the future.', 'source_documents': [Document(page_content='Pro Git\\nScott Chacon, Ben Straub\\nVersion 2.1.411, 2023-09-26', metadata={'page': 1, 'source': 'docs/progit.pdf'}), Document(page_content='Table of Contents\\nLicense . . . . . . . . . . . . . . . . . . . . . . . . . . . . . . . . . . . . . . . . . . . . . . . . . . . . . . . . . . . . . . . . . . . . . . . . . . . . . . . . . . . . . \\xa01\\nPreface by Scott Chacon . . . . . . . . . . . . . . . . . . . . . . . . . . . . . . . . . . . . . . . . . . . . . . . . . . . . . . . . . . . . . . . . . . . . . \\xa02\\nPreface by Ben Straub . . . . . . . . . . . . . . . . . . . . . . . . . . . . . . . . . . . . . . . . . . . . . . . . . . . . . . . . . . . . . . . . . . . . . . . \\xa03\\nDedications . . . . . . . . . . . . . . . . . . . . . . . . . . . . . . . . . . . . . . . . . . . . . . . . . . . . . . . . . . . . . . . . . . . . . . . . . . . . . . . . . \\xa04\\nContributors . . . . . . . . . . . . . . . . . . . . . . . . . . . . . . . . . . . . . . . . . . . . . . . . . . . . . . . . . . . . . . . . . . . . . . . . . . . . . . . . \\xa05', metadata={'page': 2, 'source': 'docs/progit.pdf'}), Document(page_content='Dedications\\nTo my wife, Becky, without whom this adventure never would have begun. — Ben\\nThis edition is dedicated to my girls. To my wife Jessica who has supported me for all of these years\\nand to my daughter Josephine, who will support me when I’m too old to know what’s going on. —\\nScott\\n4', metadata={'page': 9, 'source': 'docs/progit.pdf'}), Document(page_content='Aleh Suprunovich                Junjie Yuan                     Shi Yan\\nAlex Povel                      Junyeong Yim                    Siarhei Bobryk\\nAlexander Bezzubov              Justin Clift                    Siarhei Krukau\\nAlexandre Garnier               Jörn Auerbach                   Skyper\\nAlfred Myers                    Kaartic Sivaraam                Smaug123\\nAmanda Dillon                   KatDwo                          Snehal Shekatkar\\nAndreas Bjørnestad              Katrin Leinweber                Solt Budavári\\nAndrei Dascalu                  Kausar Mehmood                  Song Li\\nAndrei Korshikov                Keith Hill                      Stephan van Maris\\nAndrew Layman                   Kenneth Kin Lum                 Steven Roddis\\nAndrew MacFie                   Kenneth Lum                     Stuart P. Bentley\\nAndrew Metcalf                  Klaus Frank                     SudarsanGP', metadata={'page': 10, 'source': 'docs/progit.pdf'})]}\n"
     ]
    }
   ],
   "source": [
    "question = \"please give more details about them.\"\n",
    "response = conv_chain({\"question\": question})\n",
    "\n",
    "print(response)"
   ]
  },
  {
   "cell_type": "code",
   "execution_count": 96,
   "id": "e40a7e4b-068f-48b7-bf0e-cd0de57f80c5",
   "metadata": {},
   "outputs": [
    {
     "name": "stdout",
     "output_type": "stream",
     "text": [
      "Ben Straub is one of the authors of the book \"Pro Git.\" He has written a preface for the book and is mentioned in the dedications section, where he expresses gratitude to his wife, Becky, for her support in embarking on this adventure.\n",
      "\n",
      "Scott Chacon is also one of the authors of \"Pro Git.\" He has written a preface for the book and is mentioned in the dedications section. Scott dedicates this edition of the book to his wife, Jessica, and his daughter, Josephine, expressing appreciation for their support throughout the years and in the future.\n"
     ]
    }
   ],
   "source": [
    "print(response[\"answer\"])"
   ]
  },
  {
   "cell_type": "code",
   "execution_count": 97,
   "id": "ac53373e-f889-4137-81dd-b1955fba98ff",
   "metadata": {},
   "outputs": [
    {
     "data": {
      "text/plain": [
       "[HumanMessage(content='who are the authors of this book?'),\n",
       " AIMessage(content='The authors of this book are Ben Straub and Scott Chacon.'),\n",
       " HumanMessage(content='please give more details about them.'),\n",
       " AIMessage(content='Ben Straub is one of the authors of the book \"Pro Git.\" He has written a preface for the book and is mentioned in the dedications section, where he expresses gratitude to his wife, Becky, for her support in embarking on this adventure.\\n\\nScott Chacon is also one of the authors of \"Pro Git.\" He has written a preface for the book and is mentioned in the dedications section. Scott dedicates this edition of the book to his wife, Jessica, and his daughter, Josephine, expressing appreciation for their support throughout the years and in the future.')]"
      ]
     },
     "execution_count": 97,
     "metadata": {},
     "output_type": "execute_result"
    }
   ],
   "source": [
    "memory.buffer"
   ]
  },
  {
   "cell_type": "code",
   "execution_count": 102,
   "id": "d6c54441-3c02-4927-841b-5cc1932deb3e",
   "metadata": {},
   "outputs": [
    {
     "data": {
      "text/plain": [
       "{'chat_history': [HumanMessage(content='who are the authors of this book?'),\n",
       "  AIMessage(content='The authors of this book are Ben Straub and Scott Chacon.'),\n",
       "  HumanMessage(content='please give more details about them.'),\n",
       "  AIMessage(content='Ben Straub is one of the authors of the book \"Pro Git.\" He has written a preface for the book and is mentioned in the dedications section, where he expresses gratitude to his wife, Becky, for her support in embarking on this adventure.\\n\\nScott Chacon is also one of the authors of \"Pro Git.\" He has written a preface for the book and is mentioned in the dedications section. Scott dedicates this edition of the book to his wife, Jessica, and his daughter, Josephine, expressing appreciation for their support throughout the years and in the future.')]}"
      ]
     },
     "execution_count": 102,
     "metadata": {},
     "output_type": "execute_result"
    }
   ],
   "source": [
    "memory.load_memory_variables({})"
   ]
  },
  {
   "cell_type": "code",
   "execution_count": 103,
   "id": "5e950c1a-4524-4cd9-962c-60c94921ee9d",
   "metadata": {},
   "outputs": [
    {
     "name": "stdout",
     "output_type": "stream",
     "text": [
      "I don't know.\n"
     ]
    }
   ],
   "source": [
    "question = \"what does NASA do?\"\n",
    "result = conv_chain({\"question\": question})\n",
    "print(result[\"answer\"])"
   ]
  },
  {
   "cell_type": "code",
   "execution_count": null,
   "id": "b9548460-b999-4fb5-90f6-c665cba1babc",
   "metadata": {},
   "outputs": [],
   "source": []
  }
 ],
 "metadata": {
  "kernelspec": {
   "display_name": ".venv_lc_cwdb",
   "language": "python",
   "name": ".venv_lc_cwdb"
  },
  "language_info": {
   "codemirror_mode": {
    "name": "ipython",
    "version": 3
   },
   "file_extension": ".py",
   "mimetype": "text/x-python",
   "name": "python",
   "nbconvert_exporter": "python",
   "pygments_lexer": "ipython3",
   "version": "3.11.5"
  }
 },
 "nbformat": 4,
 "nbformat_minor": 5
}
