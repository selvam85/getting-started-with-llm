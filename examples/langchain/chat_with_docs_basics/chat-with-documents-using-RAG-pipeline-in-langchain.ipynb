{
 "cells": [
  {
   "cell_type": "markdown",
   "id": "e51ac27c-57d6-4673-802b-1e26283214a7",
   "metadata": {},
   "source": [
    "## Chat with documents using RAG pipeline in Langchain\n",
    "\n",
    "RAG - Retrieval Augmented Generation"
   ]
  },
  {
   "cell_type": "code",
   "execution_count": null,
   "id": "7ea31306-1627-4909-a897-b2b11b0a33ea",
   "metadata": {},
   "outputs": [],
   "source": []
  }
 ],
 "metadata": {
  "kernelspec": {
   "display_name": ".venv_lc_cwdb",
   "language": "python",
   "name": ".venv_lc_cwdb"
  },
  "language_info": {
   "codemirror_mode": {
    "name": "ipython",
    "version": 3
   },
   "file_extension": ".py",
   "mimetype": "text/x-python",
   "name": "python",
   "nbconvert_exporter": "python",
   "pygments_lexer": "ipython3",
   "version": "3.11.5"
  }
 },
 "nbformat": 4,
 "nbformat_minor": 5
}
