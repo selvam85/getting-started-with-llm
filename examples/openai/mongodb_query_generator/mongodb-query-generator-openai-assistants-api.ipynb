{
 "cells": [
  {
   "cell_type": "code",
   "execution_count": null,
   "id": "0fc44104-6659-4d54-8bde-76cd32505a1d",
   "metadata": {},
   "outputs": [],
   "source": [
    "!pip install openai\n",
    "!pip install python-dotenv"
   ]
  },
  {
   "cell_type": "code",
   "execution_count": 1,
   "id": "5d0c36f5-8cb9-424d-b0c3-108cd4bfedd4",
   "metadata": {},
   "outputs": [],
   "source": [
    "from openai import OpenAI\n",
    "import os\n",
    "from dotenv import load_dotenv\n",
    "import time\n",
    "import json5\n",
    "import json"
   ]
  },
  {
   "cell_type": "code",
   "execution_count": 2,
   "id": "3f203d4c-5841-4a32-a976-a58842914908",
   "metadata": {},
   "outputs": [],
   "source": [
    "_ = load_dotenv()\n",
    "openai_client = OpenAI()"
   ]
  },
  {
   "cell_type": "code",
   "execution_count": 3,
   "id": "0092fccf-5d3f-44fa-9f61-b953c3488d1e",
   "metadata": {},
   "outputs": [],
   "source": [
    "GPT3_MODEL = \"gpt-3.5-turbo-1106\"\n",
    "GPT4_MODEL = \"gpt-4-1106-preview\""
   ]
  },
  {
   "cell_type": "code",
   "execution_count": 4,
   "id": "3a9d2c7c-8d4f-4804-801c-83bf0b36d622",
   "metadata": {},
   "outputs": [],
   "source": [
    "input_data = \"\"\"\n",
    "[\n",
    "  { \"name\": \"Sachin\", \"team\": \"India\" },\n",
    "  { \"name\": \"Sourav\", \"team\": \"India\" },\n",
    "  { \"name\": \"Lara\", \"team\": \"West Indies\" }\n",
    "]\n",
    "\"\"\"\n",
    "\n",
    "output_data = \"\"\"\n",
    "[\n",
    " { \"team\": \"India\", \"playerCount\": 2 },\n",
    " { \"team\": \"West Indies\", \"playerCount\": 1 }\n",
    "]\n",
    "\"\"\""
   ]
  },
  {
   "cell_type": "code",
   "execution_count": 5,
   "id": "14dd6a75-9ef7-4013-bb95-262537c7d534",
   "metadata": {},
   "outputs": [],
   "source": [
    "assistant_instructions = \"\"\"You are a MongoDB expert with great expertise in writing MongoDB queries \\\n",
    "for any given data to produce an expected output.\"\"\""
   ]
  },
  {
   "cell_type": "code",
   "execution_count": 6,
   "id": "b8dea03a-3172-457e-8e20-610f4ee77b7d",
   "metadata": {},
   "outputs": [],
   "source": [
    "def get_user_prompt(input_data, output_data):\n",
    "    return f\"\"\"Your task is to write a MongoDB Query, specifically an aggregation pipeline\\\n",
    "    that would produce the expected output for the given input.\n",
    "\n",
    "    You will always return a JSON response with the following fields.\n",
    "    ```\n",
    "    mongoDBQuery: The MongoDB aggregation pipeline to produce the expected output for a given input.\\\n",
    "    This field corresponds to just the list of stages in the aggregation pipeline \\\n",
    "    and shouldn't contain the \"db.collection.aggregate\" prefix.\n",
    "    \n",
    "    queryExplanation: A detailed explanation for the query that was returned.\n",
    "    ```\n",
    "    \n",
    "    Input data: {input_data} \n",
    "    Expected output data: {output_data}\n",
    "    \"\"\""
   ]
  },
  {
   "cell_type": "code",
   "execution_count": 7,
   "id": "237c8f7e-d180-4921-84cf-e9f79ccbb716",
   "metadata": {},
   "outputs": [],
   "source": [
    "user_prompt = get_user_prompt(input_data, output_data)"
   ]
  },
  {
   "cell_type": "code",
   "execution_count": 8,
   "id": "52c0d30e-85ad-46f5-80ce-0941eb3fdbc2",
   "metadata": {},
   "outputs": [],
   "source": [
    "assistant = openai_client.beta.assistants.create(\n",
    "    name=\"MongoDB SME\",\n",
    "    instructions=assistant_instructions,\n",
    "    model=GPT3_MODEL\n",
    ")\n",
    "\n",
    "MONGO_DB_SME_ASSISTANT_ID = assistant.id"
   ]
  },
  {
   "cell_type": "code",
   "execution_count": 9,
   "id": "74ea17db-eab7-4e05-83f9-aab6e26268d2",
   "metadata": {},
   "outputs": [],
   "source": [
    "thread = openai_client.beta.threads.create()"
   ]
  },
  {
   "cell_type": "code",
   "execution_count": 10,
   "id": "714d6d81-c6af-420d-8348-f227db77ec4b",
   "metadata": {},
   "outputs": [],
   "source": [
    "message = openai_client.beta.threads.messages.create(\n",
    "    thread_id=thread.id,\n",
    "    role=\"user\",\n",
    "    content=user_prompt\n",
    ")"
   ]
  },
  {
   "cell_type": "code",
   "execution_count": 11,
   "id": "601dc7b9-459a-4fed-9124-8a08d5d68724",
   "metadata": {},
   "outputs": [],
   "source": [
    "run = openai_client.beta.threads.runs.create(\n",
    "    thread_id=thread.id,\n",
    "    assistant_id=assistant.id\n",
    ")"
   ]
  },
  {
   "cell_type": "code",
   "execution_count": 12,
   "id": "d8b8d35a-628a-4cf8-94f4-da995d39407e",
   "metadata": {},
   "outputs": [
    {
     "name": "stdout",
     "output_type": "stream",
     "text": [
      "assistant working...\n",
      "assistant working...\n",
      "assistant working...\n",
      "assistant working...\n",
      "assistant working...\n",
      "Assistants Response: Here's the MongoDB aggregation pipeline that can produce the expected output for the given input:\n",
      "\n",
      "```json\n",
      "[\n",
      "  {\n",
      "    $group: {\n",
      "      _id: \"$team\",\n",
      "      playerCount: { $sum: 1 }\n",
      "    }\n",
      "  },\n",
      "  {\n",
      "    $project: {\n",
      "      _id: 0,\n",
      "      team: \"$_id\",\n",
      "      playerCount: 1\n",
      "    }\n",
      "  }\n",
      "]\n",
      "```\n",
      "\n",
      "Explanation:\n",
      "1. `$group` stage is used to group the documents by the `team` field and calculate the count of players within each group using the `$sum` accumulator.\n",
      "2. The `_id` field is used to group the documents by the `team` field.\n",
      "3. In the following `$project` stage, the `_id` field is excluded and the `team` and `playerCount` fields are projected.\n",
      "\n",
      "This pipeline first groups the documents by the `team` field and calculates the count of players for each team. Then, in the projection stage, it reshapes the output to match the expected format.\n"
     ]
    }
   ],
   "source": [
    "max_attempts = 60\n",
    "sleep_interval = 2\n",
    "\n",
    "for i in range(max_attempts):\n",
    "    try:\n",
    "        print(\"assistant working...\")\n",
    "        \n",
    "        updated_run = openai_client.beta.threads.runs.retrieve(\n",
    "          thread_id=thread.id,\n",
    "          run_id=run.id\n",
    "        )\n",
    "        # Check if the status indicates completion\n",
    "        if updated_run.status == \"completed\":\n",
    "            messages = openai_client.beta.threads.messages.list(\n",
    "                thread_id=thread.id\n",
    "            )\n",
    "            print(f\"Assistants Response: {messages.data[0].content[0].text.value}\")\n",
    "            break\n",
    "    except Exception as e:\n",
    "        print(f\"Error: {str(e)}. Trying again...\")\n",
    "    finally:\n",
    "        time.sleep(sleep_interval)\n",
    "else:        \n",
    "    # If max_attempts reached without completion\n",
    "    print(\"Timeout: Assistant didn't respond in time. Please try again.\")    "
   ]
  },
  {
   "cell_type": "markdown",
   "id": "43feb805-d0f4-4093-9197-d1a74600812a",
   "metadata": {},
   "source": [
    "## Format the assistant response using function calling"
   ]
  },
  {
   "cell_type": "code",
   "execution_count": 13,
   "id": "6babee74-3aa5-4763-9628-187f7102ea20",
   "metadata": {},
   "outputs": [],
   "source": [
    "assistant = openai_client.beta.assistants.update(\n",
    "    MONGO_DB_SME_ASSISTANT_ID,\n",
    "    tools=[\n",
    "        {\n",
    "            \"type\": \"function\",\n",
    "            \"function\": {\n",
    "                \"name\": \"formatResponse\",\n",
    "                \"description\": \"Format the assistant's response before responding to user\",\n",
    "                \"parameters\": {\n",
    "                    \"type\": \"object\",\n",
    "                    \"properties\": {\n",
    "                        \"mongoDBQuery\": {\n",
    "                            \"type\": \"string\",\n",
    "                            \"description\": \"\"\"The MongoDB aggregation pipeline to produce the expected output for a given input. \n",
    "                                           This field corresponds to just the list of stages in the aggregation pipeline \n",
    "                                           and shouldn't contain the 'db.collection.aggregate' prefix.\"\"\"\n",
    "                        },\n",
    "                        \"queryExplanation\": {\n",
    "                            \"type\": \"string\",\n",
    "                            \"description\": \"A detailed explanation for the query that was returned.\"\n",
    "                        } \n",
    "                    },\n",
    "                    \"required\": [\"mongoDBQuery\", \"queryExplanation\"]\n",
    "                }\n",
    "            }\n",
    "        }\n",
    "    ]\n",
    ")"
   ]
  },
  {
   "cell_type": "code",
   "execution_count": 14,
   "id": "6e85d73e-f599-42aa-b4e3-aa834a93f344",
   "metadata": {},
   "outputs": [],
   "source": [
    "def get_user_prompt(input_data, output_data):\n",
    "    return f\"\"\"Your task is to write a MongoDB Query, specifically an aggregation pipeline\\\n",
    "    that would produce the expected output for the given input.\n",
    "\n",
    "    Important: You will always format the response using the formatResponse tool before responding to user. \n",
    "    \n",
    "    Input data: {input_data} \n",
    "    Expected output data: {output_data}\n",
    "    \"\"\""
   ]
  },
  {
   "cell_type": "code",
   "execution_count": 17,
   "id": "d45a211a-9162-4c8b-9f3b-cb54699c0d38",
   "metadata": {},
   "outputs": [],
   "source": [
    "user_prompt = get_user_prompt(input_data, output_data)"
   ]
  },
  {
   "cell_type": "code",
   "execution_count": 18,
   "id": "bc3e03fd-b3d9-49c6-9947-8878329e800a",
   "metadata": {},
   "outputs": [],
   "source": [
    "thread = openai_client.beta.threads.create()"
   ]
  },
  {
   "cell_type": "code",
   "execution_count": 19,
   "id": "e4ffbacf-de34-4de7-ab66-8cea4cfcf50c",
   "metadata": {},
   "outputs": [],
   "source": [
    "message = openai_client.beta.threads.messages.create(\n",
    "    thread_id=thread.id,\n",
    "    role=\"user\",\n",
    "    content=user_prompt\n",
    ")"
   ]
  },
  {
   "cell_type": "code",
   "execution_count": 20,
   "id": "a8dd1233-6d22-4435-a091-aaabe679555a",
   "metadata": {},
   "outputs": [],
   "source": [
    "run = openai_client.beta.threads.runs.create(\n",
    "    thread_id=thread.id,\n",
    "    assistant_id=assistant.id\n",
    ")"
   ]
  },
  {
   "cell_type": "code",
   "execution_count": 21,
   "id": "a75d618e-4066-4e14-9061-eab4c708785e",
   "metadata": {},
   "outputs": [
    {
     "name": "stdout",
     "output_type": "stream",
     "text": [
      "Assistant Response:\n",
      "{'mongoDBQuery': '[{\\n  \"$group\": {\\n    \"_id\": \"$team\",\\n    \"playerCount\": { \"$sum\": 1 }\\n  }\\n},{\\n  \"$project\": {\\n    \"team\": \"$_id\",\\n    \"playerCount\": 1,\\n    \"_id\": 0\\n  }\\n}]', 'queryExplanation': \"The MongoDB aggregation query consists of two stages:\\n1. $group stage: Groups the documents by the 'team' field and calculates the count of players in each team using the $sum aggregation operator.\\n2. $project stage: Reshapes the output to display the 'team' and 'playerCount' fields while removing the _id field.\"}\n"
     ]
    }
   ],
   "source": [
    "max_attempts = 60\n",
    "sleep_interval = 2\n",
    "\n",
    "for i in range(max_attempts):\n",
    "    try:      \n",
    "        updated_run = openai_client.beta.threads.runs.retrieve(\n",
    "          thread_id=thread.id,\n",
    "          run_id=run.id\n",
    "        )\n",
    "        # Check if the status indicates completion\n",
    "        if updated_run.status == \"requires_action\":\n",
    "            assitant_response = json5.loads(updated_run.required_action\\\n",
    "                                            .submit_tool_outputs\\\n",
    "                                            .tool_calls[0].function.arguments)\n",
    "            print(f\"Assistant Response:\\n{assitant_response}\")\n",
    "            break\n",
    "    except Exception as e:\n",
    "        print(f\"Error: {str(e)}. Trying again...\")\n",
    "    finally:\n",
    "        time.sleep(sleep_interval)\n",
    "else:        \n",
    "    # If max_attempts reached without completion, then assistant call timed out\n",
    "    print(\"Timeout: Assistant didn't respond in time. Please try again.\")    "
   ]
  },
  {
   "cell_type": "markdown",
   "id": "2de952c8-1257-4318-a849-e902e642a3b8",
   "metadata": {},
   "source": [
    "## Verify the query by using a function tool\n",
    "\n",
    "Submit the result of the function execution back to the assistant."
   ]
  },
  {
   "cell_type": "code",
   "execution_count": 22,
   "id": "03109185-72b1-4ff9-8e29-d8a1470c7e20",
   "metadata": {},
   "outputs": [],
   "source": [
    "execute_query_function_interface = {\n",
    "    \"name\": \"executeQuery\",\n",
    "    \"description\": \"Execute the MongoDB Query on the given input data to verify the output\",\n",
    "    \"parameters\": {\n",
    "        \"type\": \"object\",\n",
    "        \"properties\": {\n",
    "            \"mongoDBQuery\": {\n",
    "                \"type\": \"string\",\n",
    "                \"description\": \"\"\"The MongoDB aggregation pipeline to produce the expected output for a given input. \n",
    "                               This field corresponds to just the list of stages in the aggregation pipeline \n",
    "                               and shouldn't contain the 'db.collection.aggregate' prefix.\"\"\"\n",
    "            },\n",
    "            \"queryExplanation\": {\n",
    "                \"type\": \"string\",\n",
    "                \"description\": \"A detailed explanation for the query that was returned.\"\n",
    "            } \n",
    "        },\n",
    "        \"required\": [\"mongoDBQuery\", \"queryExplanation\"]\n",
    "    }\n",
    "}"
   ]
  },
  {
   "cell_type": "code",
   "execution_count": 23,
   "id": "24928944-78fa-42e8-9cd6-65b8d317c518",
   "metadata": {},
   "outputs": [],
   "source": [
    "assistant = openai_client.beta.assistants.update(\n",
    "    MONGO_DB_SME_ASSISTANT_ID,\n",
    "    tools = [\n",
    "        {\n",
    "            \"type\": \"function\", \n",
    "            \"function\": execute_query_function_interface\n",
    "        }\n",
    "    ]\n",
    ")"
   ]
  },
  {
   "cell_type": "code",
   "execution_count": 24,
   "id": "fe6d3853-49ab-46f4-8f03-97cf3825fb79",
   "metadata": {},
   "outputs": [],
   "source": [
    "def process_user_input(user_input):\n",
    "    #Create a new thread\n",
    "    thread = openai_client.beta.threads.create()\n",
    "    \n",
    "    #Add a message with the user query to the thread\n",
    "    message = openai_client.beta.threads.messages.create(\n",
    "        thread_id=thread.id,\n",
    "        role=\"user\",\n",
    "        content=user_prompt\n",
    "    )\n",
    "    \n",
    "    #Create a run to invoke the assistant\n",
    "    run = openai_client.beta.threads.runs.create(\n",
    "        thread_id=thread.id,\n",
    "        assistant_id=assistant.id\n",
    "    )\n",
    "    return thread, run"
   ]
  },
  {
   "cell_type": "code",
   "execution_count": 25,
   "id": "b715a60d-43b3-40ce-b0eb-27b01bea3520",
   "metadata": {},
   "outputs": [],
   "source": [
    "def get_completed_run(thread, run, max_attempts=60, sleep_interval=2):\n",
    "    for i in range(max_attempts):\n",
    "        try:\n",
    "            run = openai_client.beta.threads.runs.retrieve(\n",
    "              thread_id=thread.id,\n",
    "              run_id=run.id\n",
    "            )\n",
    "            # Check if the status indicates completion\n",
    "            if run.status == \"completed\" or run.status == \"requires_action\":\n",
    "                return run\n",
    "        except Exception as e:\n",
    "            print(f\"Error: {str(e)}. Trying again...\")\n",
    "        finally:\n",
    "            time.sleep(sleep_interval)\n",
    "    else:        \n",
    "        # If max_attempts reached without completion, then assistant call timed out\n",
    "        return None"
   ]
  },
  {
   "cell_type": "markdown",
   "id": "ae47b054-4ebc-4b6a-b187-d6acc9cf50ae",
   "metadata": {},
   "source": [
    "### Custom function"
   ]
  },
  {
   "cell_type": "code",
   "execution_count": 26,
   "id": "0db9be5c-a35c-48e8-8a50-7f83c762f676",
   "metadata": {},
   "outputs": [],
   "source": [
    "def execute_query(mongoDBQuery):\n",
    "    return \"success\""
   ]
  },
  {
   "cell_type": "code",
   "execution_count": 27,
   "id": "2842f234-09b6-4d1f-a05f-a613cdba9844",
   "metadata": {},
   "outputs": [],
   "source": [
    "user_prompt = f\"\"\"\n",
    "Your task is to write a MongoDB Query, specifically an aggregation pipeline\\\n",
    "that would produce the expected output for the given input.\n",
    "\n",
    "Important: You will always execute the query to verify that it produces the expected output.\n",
    "\n",
    "Input data: {input_data} \n",
    "Expected output data: {output_data}\n",
    "\"\"\""
   ]
  },
  {
   "cell_type": "code",
   "execution_count": 28,
   "id": "94c6b76f-1bce-4802-8d14-85b4c1d5729e",
   "metadata": {},
   "outputs": [
    {
     "name": "stdout",
     "output_type": "stream",
     "text": [
      "Function Name: executeQuery\n",
      "Arguments: {'mongoDBQuery': '[{\\n  \"$group\": {\\n    \"_id\": \"$team\",\\n    \"playerCount\": { \"$sum\": 1 }\\n  }\\n},\\n{\\n  \"$project\": {\\n    \"_id\": 0,\\n    \"team\": \"$_id\",\\n    \"playerCount\": 1\\n  }\\n} ]', 'queryExplanation': \"The aggregation pipeline first groups the data by the 'team' field and calculates the count of players for each team. Then, it projects the output to display only the 'team' and 'playerCount' fields.\"}\n",
      "Assistant Response - MongoDB Query: [{\n",
      "  \"$group\": {\n",
      "    \"_id\": \"$team\",\n",
      "    \"playerCount\": { \"$sum\": 1 }\n",
      "  }\n",
      "},\n",
      "{\n",
      "  \"$project\": {\n",
      "    \"_id\": 0,\n",
      "    \"team\": \"$_id\",\n",
      "    \"playerCount\": 1\n",
      "  }\n",
      "} ]\n"
     ]
    }
   ],
   "source": [
    "thread, run = process_user_input(user_prompt)\n",
    "\n",
    "for i in range(3):\n",
    "    run = get_completed_run(thread, run)\n",
    "\n",
    "    if run:\n",
    "        if run.status == \"requires_action\": \n",
    "            tool_call = run.required_action.submit_tool_outputs.tool_calls[0]\n",
    "            function_name = tool_call.function.name\n",
    "            arguments = json5.loads(tool_call.function.arguments)\n",
    "            print(f\"Function Name: {function_name}\\nArguments: {arguments}\")\n",
    "            \n",
    "            response = execute_query(arguments[\"mongoDBQuery\"])\n",
    "            if response == \"success\":\n",
    "                print(f\"Assistant Response - MongoDB Query: {arguments['mongoDBQuery']}\")\n",
    "                break\n",
    "            else:\n",
    "                run = openai_client.beta.threads.runs.submit_tool_outputs(\n",
    "                    thread_id=thread.id,\n",
    "                    run_id=run.id,\n",
    "                    tool_outputs=[\n",
    "                        {\n",
    "                            \"tool_call_id\": tool_call.id,\n",
    "                            \"output\": \"\"\"The generated MongoDB Query \n",
    "                                         didn't produce the expected output.\n",
    "                                         Please try again\"\"\"\n",
    "                        }\n",
    "                    ]\n",
    "                )\n",
    "        elif run.status == \"completed\":\n",
    "            messages = openai_client.beta.threads.messages.list(thread.id)\n",
    "            print(f\"Assistant Response: {messages.data[0].content[0].text.value}\")\n",
    "            break\n",
    "    else: \n",
    "        print(\"Error: Assistant timed out.\")\n",
    "else:\n",
    "    print(\"Error: Assistant couldn't produce the query for the given input.\")"
   ]
  }
 ],
 "metadata": {
  "kernelspec": {
   "display_name": ".venv_mqg_oaii",
   "language": "python",
   "name": ".venv_mqg_oaii"
  },
  "language_info": {
   "codemirror_mode": {
    "name": "ipython",
    "version": 3
   },
   "file_extension": ".py",
   "mimetype": "text/x-python",
   "name": "python",
   "nbconvert_exporter": "python",
   "pygments_lexer": "ipython3",
   "version": "3.11.5"
  }
 },
 "nbformat": 4,
 "nbformat_minor": 5
}
