{
 "cells": [
  {
   "cell_type": "code",
   "execution_count": null,
   "id": "0fc44104-6659-4d54-8bde-76cd32505a1d",
   "metadata": {},
   "outputs": [],
   "source": [
    "!pip install openai\n",
    "!pip install python-dotenv"
   ]
  },
  {
   "cell_type": "code",
   "execution_count": 1,
   "id": "5d0c36f5-8cb9-424d-b0c3-108cd4bfedd4",
   "metadata": {},
   "outputs": [],
   "source": [
    "from openai import OpenAI\n",
    "import os\n",
    "from dotenv import load_dotenv\n",
    "import time\n",
    "import json5\n",
    "import json"
   ]
  },
  {
   "cell_type": "code",
   "execution_count": 2,
   "id": "3f203d4c-5841-4a32-a976-a58842914908",
   "metadata": {},
   "outputs": [],
   "source": [
    "_ = load_dotenv()\n",
    "openai_client = OpenAI()"
   ]
  },
  {
   "cell_type": "code",
   "execution_count": 3,
   "id": "0092fccf-5d3f-44fa-9f61-b953c3488d1e",
   "metadata": {},
   "outputs": [],
   "source": [
    "GPT3_MODEL = \"gpt-3.5-turbo-1106\"\n",
    "GPT4_MODEL = \"gpt-4-1106-preview\""
   ]
  },
  {
   "cell_type": "code",
   "execution_count": 4,
   "id": "3a9d2c7c-8d4f-4804-801c-83bf0b36d622",
   "metadata": {},
   "outputs": [],
   "source": [
    "ex1_input_data = \"\"\"\n",
    "[\n",
    "  {\n",
    "    \"name\": \"Sachin\",\n",
    "    \"team\": \"India\"\n",
    "  },\n",
    "  {\n",
    "    \"name\": \"Sourav\",\n",
    "    \"team\": \"India\"\n",
    "  },\n",
    "  {\n",
    "    \"name\": \"Lara\",\n",
    "    \"team\": \"West Indies\"\n",
    "  }\n",
    "]\n",
    "\"\"\"\n",
    "\n",
    "ex1_output_data = \"\"\"\n",
    "[\n",
    " {\n",
    "   \"team\": India,\n",
    "   \"playerCount\": 2\n",
    " },\n",
    " {\n",
    "   \"team\": \"West Indies\",\n",
    "   \"playerCount\": 1\n",
    " }\n",
    "]\n",
    "\"\"\""
   ]
  },
  {
   "cell_type": "code",
   "execution_count": 5,
   "id": "14dd6a75-9ef7-4013-bb95-262537c7d534",
   "metadata": {},
   "outputs": [],
   "source": [
    "assistant_instructions = \"\"\"You are a MongoDB expert with great expertise in writing MongoDB queries \\\n",
    "for any given data to produce an expected output.\"\"\""
   ]
  },
  {
   "cell_type": "code",
   "execution_count": 6,
   "id": "b8dea03a-3172-457e-8e20-610f4ee77b7d",
   "metadata": {},
   "outputs": [],
   "source": [
    "def get_user_prompt(input_data, output_data):\n",
    "    return f\"\"\"Your task is to write a MongoDB Query, specifically an aggregation pipeline\\\n",
    "    that would produce the expected output for the given input.\n",
    "\n",
    "    You will always return a JSON response with the following fields.\n",
    "    ```\n",
    "    mongoDBQuery: The MongoDB aggregation pipeline to produce the expected output for a given input.\\\n",
    "    This field corresponds to just the list of stages in the aggregation pipeline \\\n",
    "    and shouldn't contain the \"db.collection.aggregate\" prefix.\n",
    "    \n",
    "    queryExplanation: A detailed explanation for the query that was returned.\n",
    "    ```\n",
    "    \n",
    "    Input data: {input_data} \n",
    "    Expected output data: {output_data}\n",
    "    \"\"\""
   ]
  },
  {
   "cell_type": "code",
   "execution_count": 7,
   "id": "237c8f7e-d180-4921-84cf-e9f79ccbb716",
   "metadata": {},
   "outputs": [],
   "source": [
    "user_prompt = get_user_prompt(ex1_input_data, ex1_output_data)"
   ]
  },
  {
   "cell_type": "code",
   "execution_count": 8,
   "id": "52c0d30e-85ad-46f5-80ce-0941eb3fdbc2",
   "metadata": {},
   "outputs": [],
   "source": [
    "assistant = openai_client.beta.assistants.create(\n",
    "    name=\"MongoDB SME\",\n",
    "    instructions=assistant_instructions,\n",
    "    model=GPT3_MODEL\n",
    ")\n",
    "\n",
    "MONGO_DB_SME_ASSISTANT_ID = assistant.id"
   ]
  },
  {
   "cell_type": "code",
   "execution_count": 9,
   "id": "74ea17db-eab7-4e05-83f9-aab6e26268d2",
   "metadata": {},
   "outputs": [],
   "source": [
    "thread = openai_client.beta.threads.create()"
   ]
  },
  {
   "cell_type": "code",
   "execution_count": 10,
   "id": "714d6d81-c6af-420d-8348-f227db77ec4b",
   "metadata": {},
   "outputs": [],
   "source": [
    "message = openai_client.beta.threads.messages.create(\n",
    "    thread_id=thread.id,\n",
    "    role=\"user\",\n",
    "    content=user_prompt\n",
    ")"
   ]
  },
  {
   "cell_type": "code",
   "execution_count": 11,
   "id": "601dc7b9-459a-4fed-9124-8a08d5d68724",
   "metadata": {},
   "outputs": [],
   "source": [
    "run = openai_client.beta.threads.runs.create(\n",
    "    thread_id=thread.id,\n",
    "    assistant_id=assistant.id\n",
    ")"
   ]
  },
  {
   "cell_type": "code",
   "execution_count": 12,
   "id": "d8b8d35a-628a-4cf8-94f4-da995d39407e",
   "metadata": {},
   "outputs": [
    {
     "name": "stdout",
     "output_type": "stream",
     "text": [
      "assistant working...\n",
      "assistant working...\n",
      "assistant working...\n",
      "assistant working...\n",
      "assistant working...\n",
      "Assistants Response: The MongoDB aggregation pipeline query to produce the expected output for the given input data is as follows:\n",
      "\n",
      "```json\n",
      "[\n",
      "  {\n",
      "    $group: {\n",
      "      _id: \"$team\",\n",
      "      playerCount: { $sum: 1 }\n",
      "    }\n",
      "  },\n",
      "  {\n",
      "    $project: {\n",
      "      _id: 0,\n",
      "      team: \"$_id\",\n",
      "      playerCount: 1\n",
      "    }\n",
      "  }\n",
      "]\n",
      "```\n",
      "\n",
      "Explanation:\n",
      "1. The `$group` stage groups the documents by the \"team\" field and calculates the count of players for each team using the `$sum` accumulator.\n",
      "2. The `$project` stage reshapes the output to include only the \"team\" and \"playerCount\" fields, while excluding the `_id` field.\n",
      "\n",
      "This pipeline first groups the documents by the \"team\" field and then projects the result to include the team name and the count of players, as per the expected output.\n"
     ]
    }
   ],
   "source": [
    "max_attempts = 60\n",
    "sleep_interval = 2\n",
    "\n",
    "for i in range(max_attempts):\n",
    "    try:\n",
    "        print(\"assistant working...\")\n",
    "        \n",
    "        updated_run = openai_client.beta.threads.runs.retrieve(\n",
    "          thread_id=thread.id,\n",
    "          run_id=run.id\n",
    "        )\n",
    "        # Check if the status indicates completion\n",
    "        if updated_run.status == \"completed\":\n",
    "            messages = openai_client.beta.threads.messages.list(\n",
    "                thread_id=thread.id\n",
    "            )\n",
    "            print(f\"Assistants Response: {messages.data[0].content[0].text.value}\")\n",
    "            break\n",
    "    except Exception as e:\n",
    "        print(f\"Error: {str(e)}. Trying again...\")\n",
    "    finally:\n",
    "        time.sleep(sleep_interval)\n",
    "else:        \n",
    "    # If max_attempts reached without completion\n",
    "    print(\"Timeout: Assistant didn't respond in time. Please try again.\")    "
   ]
  },
  {
   "cell_type": "markdown",
   "id": "43feb805-d0f4-4093-9197-d1a74600812a",
   "metadata": {},
   "source": [
    "## Format the assistant response using function calling"
   ]
  },
  {
   "cell_type": "code",
   "execution_count": 13,
   "id": "6babee74-3aa5-4763-9628-187f7102ea20",
   "metadata": {},
   "outputs": [],
   "source": [
    "assistant = openai_client.beta.assistants.update(\n",
    "    MONGO_DB_SME_ASSISTANT_ID,\n",
    "    tools=[\n",
    "        {\n",
    "            \"type\": \"function\",\n",
    "            \"function\": {\n",
    "                \"name\": \"formatResponse\",\n",
    "                \"description\": \"Format the assistant's response before responding to user\",\n",
    "                \"parameters\": {\n",
    "                    \"type\": \"object\",\n",
    "                    \"properties\": {\n",
    "                        \"mongoDBQuery\": {\n",
    "                            \"type\": \"string\",\n",
    "                            \"description\": \"\"\"The MongoDB aggregation pipeline to produce the expected output for a given input. \n",
    "                                           This field corresponds to just the list of stages in the aggregation pipeline \n",
    "                                           and shouldn't contain the 'db.collection.aggregate' prefix.\"\"\"\n",
    "                        },\n",
    "                        \"queryExplanation\": {\n",
    "                            \"type\": \"string\",\n",
    "                            \"description\": \"A detailed explanation for the query that was returned.\"\n",
    "                        } \n",
    "                    },\n",
    "                    \"required\": [\"mongoDBQuery\", \"queryExplanation\"]\n",
    "                }\n",
    "            }\n",
    "        }\n",
    "    ]\n",
    ")"
   ]
  },
  {
   "cell_type": "code",
   "execution_count": 14,
   "id": "6e85d73e-f599-42aa-b4e3-aa834a93f344",
   "metadata": {},
   "outputs": [],
   "source": [
    "def get_user_prompt(input_data, output_data):\n",
    "    return f\"\"\"Your task is to write a MongoDB Query, specifically an aggregation pipeline\\\n",
    "    that would produce the expected output for the given input.\n",
    "\n",
    "    Important: You will always format the response using the formatResponse tool before responding to user. \n",
    "    \n",
    "    Input data: {input_data} \n",
    "    Expected output data: {output_data}\n",
    "    \"\"\""
   ]
  },
  {
   "cell_type": "code",
   "execution_count": 15,
   "id": "d45a211a-9162-4c8b-9f3b-cb54699c0d38",
   "metadata": {},
   "outputs": [],
   "source": [
    "user_prompt = get_user_prompt(ex1_input_data, ex1_output_data)"
   ]
  },
  {
   "cell_type": "code",
   "execution_count": 16,
   "id": "bc3e03fd-b3d9-49c6-9947-8878329e800a",
   "metadata": {},
   "outputs": [],
   "source": [
    "thread = openai_client.beta.threads.create()"
   ]
  },
  {
   "cell_type": "code",
   "execution_count": 17,
   "id": "e4ffbacf-de34-4de7-ab66-8cea4cfcf50c",
   "metadata": {},
   "outputs": [],
   "source": [
    "message = openai_client.beta.threads.messages.create(\n",
    "    thread_id=thread.id,\n",
    "    role=\"user\",\n",
    "    content=user_prompt\n",
    ")"
   ]
  },
  {
   "cell_type": "code",
   "execution_count": 18,
   "id": "a8dd1233-6d22-4435-a091-aaabe679555a",
   "metadata": {},
   "outputs": [],
   "source": [
    "run = openai_client.beta.threads.runs.create(\n",
    "    thread_id=thread.id,\n",
    "    assistant_id=assistant.id\n",
    ")"
   ]
  },
  {
   "cell_type": "code",
   "execution_count": 19,
   "id": "a75d618e-4066-4e14-9061-eab4c708785e",
   "metadata": {},
   "outputs": [
    {
     "name": "stdout",
     "output_type": "stream",
     "text": [
      "Assistant Response:\n",
      "{'mongoDBQuery': '[{\\n  \"$group\": {\\n    \"_id\": \"$team\",\\n    \"playerCount\": { \"$sum\": 1 }\\n  }\\n},{\\n  \"$project\": {\\n    \"_id\": 0,\\n    \"team\": \"$_id\",\\n    \"playerCount\": 1\\n  }\\n}]\\n', 'queryExplanation': \"The MongoDB aggregation pipeline starts with a $group stage where we group the data by the 'team' field and use the $sum accumulator to count the players for each team. Then, in the $project stage, we reshape the output to include 'team' and 'playerCount' fields and exclude the '_id' field.\"}\n"
     ]
    }
   ],
   "source": [
    "max_attempts = 60\n",
    "sleep_interval = 2\n",
    "\n",
    "for i in range(max_attempts):\n",
    "    try:      \n",
    "        updated_run = openai_client.beta.threads.runs.retrieve(\n",
    "          thread_id=thread.id,\n",
    "          run_id=run.id\n",
    "        )\n",
    "        # Check if the status indicates completion\n",
    "        if updated_run.status == \"requires_action\":\n",
    "            assitant_response = json5.loads(updated_run.required_action\\\n",
    "                                            .submit_tool_outputs\\\n",
    "                                            .tool_calls[0].function.arguments)\n",
    "            print(f\"Assistant Response:\\n{assitant_response}\")\n",
    "            break\n",
    "    except Exception as e:\n",
    "        print(f\"Error: {str(e)}. Trying again...\")\n",
    "    finally:\n",
    "        time.sleep(sleep_interval)\n",
    "else:        \n",
    "    # If max_attempts reached without completion, then assistant call timed out\n",
    "    print(\"Timeout: Assistant didn't respond in time. Please try again.\")    "
   ]
  },
  {
   "cell_type": "code",
   "execution_count": null,
   "id": "1f493bff-aadf-439c-b2a7-ff36cc360f6b",
   "metadata": {},
   "outputs": [],
   "source": []
  }
 ],
 "metadata": {
  "kernelspec": {
   "display_name": ".venv_mqg_oaii",
   "language": "python",
   "name": ".venv_mqg_oaii"
  },
  "language_info": {
   "codemirror_mode": {
    "name": "ipython",
    "version": 3
   },
   "file_extension": ".py",
   "mimetype": "text/x-python",
   "name": "python",
   "nbconvert_exporter": "python",
   "pygments_lexer": "ipython3",
   "version": "3.11.5"
  }
 },
 "nbformat": 4,
 "nbformat_minor": 5
}
