{
 "cells": [
  {
   "cell_type": "code",
   "execution_count": null,
   "id": "0fc44104-6659-4d54-8bde-76cd32505a1d",
   "metadata": {},
   "outputs": [],
   "source": [
    "!pip install openai\n",
    "!pip install python-dotenv"
   ]
  },
  {
   "cell_type": "code",
   "execution_count": 1,
   "id": "5d0c36f5-8cb9-424d-b0c3-108cd4bfedd4",
   "metadata": {},
   "outputs": [],
   "source": [
    "from openai import OpenAI\n",
    "import os\n",
    "from dotenv import load_dotenv\n",
    "import time\n",
    "import json5\n",
    "import json"
   ]
  },
  {
   "cell_type": "code",
   "execution_count": 2,
   "id": "3f203d4c-5841-4a32-a976-a58842914908",
   "metadata": {},
   "outputs": [],
   "source": [
    "_ = load_dotenv()\n",
    "openai_client = OpenAI()"
   ]
  },
  {
   "cell_type": "code",
   "execution_count": 3,
   "id": "0092fccf-5d3f-44fa-9f61-b953c3488d1e",
   "metadata": {},
   "outputs": [],
   "source": [
    "GPT3_MODEL = \"gpt-3.5-turbo-1106\"\n",
    "GPT4_MODEL = \"gpt-4-1106-preview\""
   ]
  },
  {
   "cell_type": "code",
   "execution_count": 4,
   "id": "3a9d2c7c-8d4f-4804-801c-83bf0b36d622",
   "metadata": {},
   "outputs": [],
   "source": [
    "input_data = \"\"\"\n",
    "[\n",
    "  {\n",
    "    \"name\": \"Sachin\",\n",
    "    \"team\": \"India\"\n",
    "  },\n",
    "  {\n",
    "    \"name\": \"Sourav\",\n",
    "    \"team\": \"India\"\n",
    "  },\n",
    "  {\n",
    "    \"name\": \"Lara\",\n",
    "    \"team\": \"West Indies\"\n",
    "  }\n",
    "]\n",
    "\"\"\"\n",
    "\n",
    "output_data = \"\"\"\n",
    "[\n",
    " {\n",
    "   \"team\": India,\n",
    "   \"playerCount\": 2\n",
    " },\n",
    " {\n",
    "   \"team\": \"West Indies\",\n",
    "   \"playerCount\": 1\n",
    " }\n",
    "]\n",
    "\"\"\""
   ]
  },
  {
   "cell_type": "code",
   "execution_count": 5,
   "id": "14dd6a75-9ef7-4013-bb95-262537c7d534",
   "metadata": {},
   "outputs": [],
   "source": [
    "assistant_instructions = \"\"\"You are a MongoDB expert with great expertise in writing MongoDB queries \\\n",
    "for any given data to produce an expected output.\"\"\""
   ]
  },
  {
   "cell_type": "code",
   "execution_count": 6,
   "id": "c3a7c0f3-1c60-4208-8667-ac03b8f9725b",
   "metadata": {},
   "outputs": [],
   "source": [
    "execute_query_function_interface = {\n",
    "    \"name\": \"executeQuery\",\n",
    "    \"description\": \"Execute the MongoDB Query on the given input data to verify the output\",\n",
    "    \"parameters\": {\n",
    "        \"type\": \"object\",\n",
    "        \"properties\": {\n",
    "            \"mongoDBQuery\": {\n",
    "                \"type\": \"string\",\n",
    "                \"description\": \"\"\"The MongoDB aggregation pipeline to produce the expected output for a given input. \n",
    "                               This field corresponds to just the list of stages in the aggregation pipeline \n",
    "                               and shouldn't contain the 'db.collection.aggregate' prefix.\"\"\"\n",
    "            },\n",
    "            \"queryExplanation\": {\n",
    "                \"type\": \"string\",\n",
    "                \"description\": \"A detailed explanation for the query that was returned.\"\n",
    "            } \n",
    "        },\n",
    "        \"required\": [\"mongoDBQuery\", \"queryExplanation\"]\n",
    "    }\n",
    "}"
   ]
  },
  {
   "cell_type": "code",
   "execution_count": 7,
   "id": "52c0d30e-85ad-46f5-80ce-0941eb3fdbc2",
   "metadata": {},
   "outputs": [],
   "source": [
    "assistant = openai_client.beta.assistants.create(\n",
    "    name=\"MongoDB SME\",\n",
    "    instructions=assistant_instructions,\n",
    "    model=GPT3_MODEL,\n",
    "    tools = [\n",
    "        {\n",
    "            \"type\": \"function\", \n",
    "            \"function\": execute_query_function_interface\n",
    "        }\n",
    "    ]\n",
    ")"
   ]
  },
  {
   "cell_type": "code",
   "execution_count": 8,
   "id": "714d6d81-c6af-420d-8348-f227db77ec4b",
   "metadata": {},
   "outputs": [],
   "source": [
    "def process_user_input(user_input):\n",
    "    #Create a new thread\n",
    "    thread = openai_client.beta.threads.create()\n",
    "    \n",
    "    #Add a message with the user query to the thread\n",
    "    message = openai_client.beta.threads.messages.create(\n",
    "        thread_id=thread.id,\n",
    "        role=\"user\",\n",
    "        content=user_prompt\n",
    "    )\n",
    "    \n",
    "    #Create a run to invoke the assistant\n",
    "    run = openai_client.beta.threads.runs.create(\n",
    "        thread_id=thread.id,\n",
    "        assistant_id=assistant.id\n",
    "    )\n",
    "    return thread, run"
   ]
  },
  {
   "cell_type": "code",
   "execution_count": 9,
   "id": "601dc7b9-459a-4fed-9124-8a08d5d68724",
   "metadata": {},
   "outputs": [],
   "source": [
    "def get_completed_run(thread, run, max_attempts=60, sleep_interval=2):\n",
    "    for i in range(max_attempts):\n",
    "        try:\n",
    "            run = openai_client.beta.threads.runs.retrieve(\n",
    "              thread_id=thread.id,\n",
    "              run_id=run.id\n",
    "            )\n",
    "            # Check if the status indicates completion\n",
    "            if run.status == \"completed\" or run.status == \"requires_action\":\n",
    "                return run\n",
    "        except Exception as e:\n",
    "            print(f\"Error: {str(e)}. Trying again...\")\n",
    "        finally:\n",
    "            time.sleep(sleep_interval)\n",
    "    else:        \n",
    "        # If max_attempts reached without completion, then assistant call timed out\n",
    "        return None"
   ]
  },
  {
   "cell_type": "code",
   "execution_count": 10,
   "id": "f21222f0-db59-4707-8487-5786d48deffd",
   "metadata": {},
   "outputs": [],
   "source": [
    "def executeQuery(mongoDBQuery):\n",
    "    return \"success\""
   ]
  },
  {
   "cell_type": "code",
   "execution_count": 11,
   "id": "d8b8d35a-628a-4cf8-94f4-da995d39407e",
   "metadata": {},
   "outputs": [],
   "source": [
    "user_prompt = f\"\"\"\n",
    "Your task is to write a MongoDB Query, specifically an aggregation pipeline\\\n",
    "that would produce the expected output for the given input.\n",
    "\n",
    "Important: You will always execute the query to verify that it produces the expected output.\n",
    "\n",
    "Input data: {input_data} \n",
    "Expected output data: {output_data}\n",
    "\"\"\""
   ]
  },
  {
   "cell_type": "code",
   "execution_count": 13,
   "id": "1f493bff-aadf-439c-b2a7-ff36cc360f6b",
   "metadata": {},
   "outputs": [
    {
     "name": "stdout",
     "output_type": "stream",
     "text": [
      "Function Name: executeQuery\n",
      "Arguments: {'mongoDBQuery': '[\\n  {\\n    \"$group\": {\\n      \"_id\": \"$team\",\\n      \"playerCount\": {\"$sum\": 1}\\n    }\\n  },\\n  {\\n    \"$project\": {\\n      \"team\": \"$_id\",\\n      \"playerCount\": 1,\\n      \"_id\": 0\\n    }\\n  }\\n]', 'queryExplanation': \"The query groups the documents by the 'team' field and calculates the count of players for each team. Then it projects the 'team' and 'playerCount' fields, and removes the '_id' field from the output.\"}\n",
      "Assistant Response - MongoDB Query: [\n",
      "  {\n",
      "    \"$group\": {\n",
      "      \"_id\": \"$team\",\n",
      "      \"playerCount\": {\"$sum\": 1}\n",
      "    }\n",
      "  },\n",
      "  {\n",
      "    \"$project\": {\n",
      "      \"team\": \"$_id\",\n",
      "      \"playerCount\": 1,\n",
      "      \"_id\": 0\n",
      "    }\n",
      "  }\n",
      "]\n"
     ]
    }
   ],
   "source": [
    "thread, run = process_user_input(user_prompt)\n",
    "\n",
    "for i in range(3):\n",
    "    run = get_completed_run(thread, run)\n",
    "\n",
    "    if run:\n",
    "        if run.status == \"requires_action\": \n",
    "            tool_call = run.required_action.submit_tool_outputs.tool_calls[0]\n",
    "            function_name = tool_call.function.name\n",
    "            arguments = json5.loads(tool_call.function.arguments)\n",
    "            print(f\"Function Name: {function_name}\\nArguments: {arguments}\")\n",
    "            \n",
    "            response = executeQuery(arguments[\"mongoDBQuery\"])\n",
    "            if response == \"success\":\n",
    "                print(f\"Assistant Response - MongoDB Query: {arguments['mongoDBQuery']}\")\n",
    "                break\n",
    "            else:\n",
    "                run = openai_client.beta.threads.runs.submit_tool_outputs(\n",
    "                    thread_id=thread.id,\n",
    "                    run_id=run.id,\n",
    "                    tool_outputs=[\n",
    "                        {\n",
    "                            \"tool_call_id\": tool_call.id,\n",
    "                            \"output\": \"\"\"The generated MongoDB Query \n",
    "                                         didn't produce the expected output.\n",
    "                                         Please try again\"\"\"\n",
    "                        }\n",
    "                    ]\n",
    "                )\n",
    "        elif run.status == \"completed\":\n",
    "            messages = openai_client.beta.threads.messages.list(thread.id)\n",
    "            print(f\"Assistant Response: {messages.data[0].content[0].text.value}\")\n",
    "            break\n",
    "    else: \n",
    "        print(\"Error: Assistant timed out.\")\n",
    "else:\n",
    "    print(\"Error: Assistant couldn't produce the query for the given input.\")"
   ]
  },
  {
   "cell_type": "code",
   "execution_count": null,
   "id": "42204957-3343-42cc-97e9-3dcda4373f68",
   "metadata": {},
   "outputs": [],
   "source": []
  }
 ],
 "metadata": {
  "kernelspec": {
   "display_name": ".venv_mqg_oaii",
   "language": "python",
   "name": ".venv_mqg_oaii"
  },
  "language_info": {
   "codemirror_mode": {
    "name": "ipython",
    "version": 3
   },
   "file_extension": ".py",
   "mimetype": "text/x-python",
   "name": "python",
   "nbconvert_exporter": "python",
   "pygments_lexer": "ipython3",
   "version": "3.11.5"
  }
 },
 "nbformat": 4,
 "nbformat_minor": 5
}
