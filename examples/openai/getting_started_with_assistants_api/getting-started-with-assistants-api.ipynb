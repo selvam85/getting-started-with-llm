{
 "cells": [
  {
   "cell_type": "markdown",
   "id": "17e5ecf5-9832-41bd-999b-5e8ba8c1c716",
   "metadata": {},
   "source": [
    "## Getting started with OpenAI Assistants API\n",
    "\n",
    "This is a quick start tutorial to get started with using [Assistants API](https://platform.openai.com/docs/assistants/overview)."
   ]
  },
  {
   "cell_type": "markdown",
   "id": "2c20d0d5-f6d0-45d9-856a-3459dd5545fd",
   "metadata": {},
   "source": [
    "### Environment Setup"
   ]
  },
  {
   "cell_type": "code",
   "execution_count": null,
   "id": "02a0c5ed-3787-42a5-a88d-aa5604742bf9",
   "metadata": {
    "scrolled": true
   },
   "outputs": [],
   "source": [
    "!pip install openai\n",
    "!pip install python-dotenv"
   ]
  },
  {
   "cell_type": "code",
   "execution_count": 1,
   "id": "3a1ae31b-5338-424d-9713-6b3a8c588fad",
   "metadata": {},
   "outputs": [],
   "source": [
    "from openai import OpenAI\n",
    "import os\n",
    "from dotenv import load_dotenv\n",
    "import json\n",
    "import time"
   ]
  },
  {
   "cell_type": "markdown",
   "id": "231abf23-6699-4b0e-98f5-b809c228f9f3",
   "metadata": {},
   "source": [
    "### OpenAI API Setup\n",
    "\n",
    "The OpenAI API key is placed in a `.env` file. If you don't have one, create a file named `.env` and update with the following. Replace `sk_this_is_a_sample_key` with your OpenAI API key.\n",
    "\n",
    "`OPENAI_API_KEY=sk_this_is_a_sample_key`"
   ]
  },
  {
   "cell_type": "code",
   "execution_count": 2,
   "id": "3b1b9299-4418-442d-b8a1-cc05717e4fcf",
   "metadata": {},
   "outputs": [],
   "source": [
    "_ = load_dotenv()\n",
    "\n",
    "client = OpenAI(\n",
    "    api_key = os.environ['OPENAI_API_KEY']\n",
    ")"
   ]
  },
  {
   "cell_type": "markdown",
   "id": "4e390e38-d63c-4e93-bf51-882076d8b5c2",
   "metadata": {},
   "source": [
    "### Create an assistant"
   ]
  },
  {
   "cell_type": "code",
   "execution_count": 3,
   "id": "12011207-111f-42d2-a445-ada685b613d0",
   "metadata": {},
   "outputs": [],
   "source": [
    "assistant = client.beta.assistants.create(\n",
    "    name=\"Math Tutor\",\n",
    "    instructions=\"You are a personal math tutor. Write and run code to answer math questions.\",\n",
    "    tools=[{\"type\": \"code_interpreter\"}],\n",
    "    model=\"gpt-4-1106-preview\"\n",
    ")"
   ]
  },
  {
   "cell_type": "markdown",
   "id": "ee470374-8795-48f0-b371-2ee36bf94d33",
   "metadata": {},
   "source": [
    "### Create a thread"
   ]
  },
  {
   "cell_type": "code",
   "execution_count": 4,
   "id": "e50a7f1c-423b-4235-869e-ed8853b4e275",
   "metadata": {},
   "outputs": [],
   "source": [
    "thread = client.beta.threads.create()"
   ]
  },
  {
   "cell_type": "markdown",
   "id": "f2030d6a-1f43-4b1d-b5fc-e893a6e11f74",
   "metadata": {},
   "source": [
    "### Add a message to the thread"
   ]
  },
  {
   "cell_type": "code",
   "execution_count": 5,
   "id": "0bd62bde-4134-4531-9f67-6e669d27fc8d",
   "metadata": {},
   "outputs": [],
   "source": [
    "message = client.beta.threads.messages.create(\n",
    "    thread_id=thread.id,\n",
    "    role=\"user\",\n",
    "    content=\"I need to add all numbers from 1 to 100. Can you help me with that and also provide the formula to do that?\"\n",
    ")"
   ]
  },
  {
   "cell_type": "markdown",
   "id": "0291a490-a166-4b48-a561-1d6320b05147",
   "metadata": {},
   "source": [
    "### List the messages in the thread"
   ]
  },
  {
   "cell_type": "code",
   "execution_count": null,
   "id": "48251748-8c70-4a43-ae74-f622405c73f9",
   "metadata": {},
   "outputs": [],
   "source": [
    "messages = client.beta.threads.messages.list(\n",
    "    thread_id=thread.id\n",
    ")\n",
    "\n",
    "print(messages.model_dump_json())"
   ]
  },
  {
   "cell_type": "markdown",
   "id": "2c4530f5-41dd-496a-a024-4b042dc2bc5a",
   "metadata": {},
   "source": [
    "### Run the assistant"
   ]
  },
  {
   "cell_type": "code",
   "execution_count": null,
   "id": "6f918152-2974-4dc6-8ff0-06f536af0dd1",
   "metadata": {},
   "outputs": [],
   "source": [
    "run = client.beta.threads.runs.create(\n",
    "  thread_id=thread.id,\n",
    "  assistant_id=assistant.id\n",
    ")"
   ]
  },
  {
   "cell_type": "code",
   "execution_count": null,
   "id": "a1344032-15de-43b3-9bd6-896f60e1ea0e",
   "metadata": {},
   "outputs": [],
   "source": [
    "run.status"
   ]
  },
  {
   "cell_type": "code",
   "execution_count": null,
   "id": "0a19ccbb-c006-41d2-a627-3d6e3f6e26b6",
   "metadata": {},
   "outputs": [],
   "source": [
    "updated_run = client.beta.threads.runs.retrieve(\n",
    "  thread_id=thread.id,\n",
    "  run_id=run.id\n",
    ")\n",
    "\n",
    "updated_run.status"
   ]
  },
  {
   "cell_type": "markdown",
   "id": "9b848295-1671-470c-8cd4-c9b74ed73d14",
   "metadata": {},
   "source": [
    "### Display the message"
   ]
  },
  {
   "cell_type": "code",
   "execution_count": null,
   "id": "ae4eb477-743e-43bb-a714-27f76eaea180",
   "metadata": {},
   "outputs": [],
   "source": [
    "messages = client.beta.threads.messages.list(\n",
    "  thread_id=thread.id\n",
    ")"
   ]
  },
  {
   "cell_type": "code",
   "execution_count": null,
   "id": "59c242a6-d37e-4807-8c47-7ae616cae05b",
   "metadata": {},
   "outputs": [],
   "source": [
    "messages.data[0].content[0].text.value"
   ]
  },
  {
   "cell_type": "markdown",
   "id": "05d011cc-2060-4f3a-9c12-f503c6afba8c",
   "metadata": {},
   "source": [
    "### Utility functions for polling and displaying assistant response"
   ]
  },
  {
   "cell_type": "code",
   "execution_count": null,
   "id": "e5cd23a6-3067-4983-adf7-0152e99b91f6",
   "metadata": {},
   "outputs": [],
   "source": [
    "# The function to poll the run status in a regular interval for a specified amount of times\n",
    "def get_assistant_response(thread_id, run_id, callback, interval=2, max_attempts=60):\n",
    "    attempts = 0\n",
    "    while attempts < max_attempts:\n",
    "        try:\n",
    "            updated_run = client.beta.threads.runs.retrieve(\n",
    "              thread_id=thread_id,\n",
    "              run_id=run_id\n",
    "            )\n",
    "            status = updated_run.status\n",
    "            # Check if the status indicates completion\n",
    "            if status == \"completed\":\n",
    "                callback(status, thread_id)\n",
    "                break\n",
    "            else:\n",
    "                callback(f\"Run status: {status}\")\n",
    "                \n",
    "            time.sleep(interval)\n",
    "            attempts += 1   \n",
    "        except Exception as e:\n",
    "            callback(f\"Error: {str(e)}\")\n",
    "            time.sleep(interval)\n",
    "            attempts += 1\n",
    "    else:\n",
    "        # If max_attempts reached without completion, call the callback with a timeout message\n",
    "        callback(\"Timeout: Assistant didn't respond in time. Please try again.\")\n",
    "\n",
    "# Callback function to handle the run status\n",
    "def handle_response(status, thread_id=None):\n",
    "    if status == \"completed\":\n",
    "        print(\"Run completed successfully.\")\n",
    "        display_messages(thread_id)\n",
    "    else:\n",
    "        print(status)\n",
    "\n",
    "# Function to display the assistant's response\n",
    "def display_messages(thread_id):\n",
    "    messages = client.beta.threads.messages.list(\n",
    "      thread_id=thread_id\n",
    "    )\n",
    "    print(f\"Assistants Response: {messages.data[0].content[0].text.value}\")"
   ]
  },
  {
   "cell_type": "code",
   "execution_count": null,
   "id": "0bf29c0f-1155-4358-849b-8695c03ad391",
   "metadata": {},
   "outputs": [],
   "source": [
    "thread_1 = client.beta.threads.create(\n",
    "    messages = [\n",
    "        {\n",
    "            \"role\": \"user\",\n",
    "            \"content\": \"I need to add all numbers from 1 to 1000. Can you help me with that?\"\n",
    "        }\n",
    "    ]\n",
    ")"
   ]
  },
  {
   "cell_type": "code",
   "execution_count": null,
   "id": "c9f7d79d-93ab-4ed0-a208-7e05a14d4b22",
   "metadata": {},
   "outputs": [],
   "source": [
    "run_1 = client.beta.threads.runs.create(\n",
    "    thread_id=thread_1.id,\n",
    "    assistant_id=assistant.id\n",
    ")"
   ]
  },
  {
   "cell_type": "code",
   "execution_count": null,
   "id": "0918da04-5cad-4c5f-8e4b-5ccea6356533",
   "metadata": {},
   "outputs": [],
   "source": [
    "get_assistant_response(thread_1.id, run_1.id, handle_response)"
   ]
  },
  {
   "cell_type": "markdown",
   "id": "b7e87440-d34f-4287-8356-68d5ea3b3ede",
   "metadata": {},
   "source": [
    "### Messages array"
   ]
  },
  {
   "cell_type": "code",
   "execution_count": null,
   "id": "7bda341d-adaa-481f-b18c-3fc4b9ab1ab9",
   "metadata": {},
   "outputs": [],
   "source": [
    "message_json = json.loads(messages.model_dump_json())\n",
    "print(json.dumps(message_json, indent=2))"
   ]
  },
  {
   "cell_type": "code",
   "execution_count": null,
   "id": "02c25210-3e69-4084-a32a-a3ec5deb071b",
   "metadata": {},
   "outputs": [],
   "source": [
    "print(message_json[\"data\"][0][\"content\"][0][\"text\"][\"value\"])"
   ]
  }
 ],
 "metadata": {
  "kernelspec": {
   "display_name": ".venv_oai_assistant",
   "language": "python",
   "name": ".venv_oai_assistant"
  },
  "language_info": {
   "codemirror_mode": {
    "name": "ipython",
    "version": 3
   },
   "file_extension": ".py",
   "mimetype": "text/x-python",
   "name": "python",
   "nbconvert_exporter": "python",
   "pygments_lexer": "ipython3",
   "version": "3.11.5"
  }
 },
 "nbformat": 4,
 "nbformat_minor": 5
}
